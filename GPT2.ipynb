{
  "cells": [
    {
      "cell_type": "markdown",
      "metadata": {
        "id": "view-in-github",
        "colab_type": "text"
      },
      "source": [
        "<a href=\"https://colab.research.google.com/github/bchiramani/Personality_detection/blob/main/GPT2.ipynb\" target=\"_parent\"><img src=\"https://colab.research.google.com/assets/colab-badge.svg\" alt=\"Open In Colab\"/></a>"
      ]
    },
    {
      "cell_type": "markdown",
      "metadata": {
        "id": "0CvSVPr6cyDW"
      },
      "source": [
        "# Imports"
      ]
    },
    {
      "cell_type": "code",
      "execution_count": null,
      "metadata": {
        "colab": {
          "base_uri": "https://localhost:8080/"
        },
        "id": "FQjGGZmyY8tv",
        "outputId": "d30f0724-99e7-48b7-e8d3-20a33ef30119"
      },
      "outputs": [
        {
          "output_type": "stream",
          "name": "stdout",
          "text": [
            "Mounted at /content/drive\n"
          ]
        }
      ],
      "source": [
        "from google.colab import drive\n",
        "drive.mount('/content/drive')"
      ]
    },
    {
      "cell_type": "code",
      "execution_count": null,
      "metadata": {
        "colab": {
          "base_uri": "https://localhost:8080/"
        },
        "id": "A3VQLdCWZHhu",
        "outputId": "a3a22546-34d8-4ef4-a288-2db252d1379c"
      },
      "outputs": [
        {
          "output_type": "stream",
          "name": "stdout",
          "text": [
            "Looking in indexes: https://pypi.org/simple, https://us-python.pkg.dev/colab-wheels/public/simple/\n",
            "Collecting emoji\n",
            "  Downloading emoji-2.2.0.tar.gz (240 kB)\n",
            "\u001b[2K     \u001b[90m━━━━━━━━━━━━━━━━━━━━━━━━━━━━━━━━━━━━━━━\u001b[0m \u001b[32m240.9/240.9 kB\u001b[0m \u001b[31m4.9 MB/s\u001b[0m eta \u001b[36m0:00:00\u001b[0m\n",
            "\u001b[?25h  Preparing metadata (setup.py) ... \u001b[?25l\u001b[?25hdone\n",
            "Building wheels for collected packages: emoji\n",
            "  Building wheel for emoji (setup.py) ... \u001b[?25l\u001b[?25hdone\n",
            "  Created wheel for emoji: filename=emoji-2.2.0-py3-none-any.whl size=234926 sha256=4afe625413cf65549fe6ae5611e6776f11e2960017ec3f6076e6e927c720622b\n",
            "  Stored in directory: /root/.cache/pip/wheels/9a/b8/0f/f580817231cbf59f6ade9fd132ff60ada1de9f7dc85521f857\n",
            "Successfully built emoji\n",
            "Installing collected packages: emoji\n",
            "Successfully installed emoji-2.2.0\n",
            "Looking in indexes: https://pypi.org/simple, https://us-python.pkg.dev/colab-wheels/public/simple/\n",
            "Collecting transformers\n",
            "  Downloading transformers-4.27.4-py3-none-any.whl (6.8 MB)\n",
            "\u001b[2K     \u001b[90m━━━━━━━━━━━━━━━━━━━━━━━━━━━━━━━━━━━━━━━━\u001b[0m \u001b[32m6.8/6.8 MB\u001b[0m \u001b[31m53.6 MB/s\u001b[0m eta \u001b[36m0:00:00\u001b[0m\n",
            "\u001b[?25hCollecting tokenizers!=0.11.3,<0.14,>=0.11.1\n",
            "  Downloading tokenizers-0.13.3-cp39-cp39-manylinux_2_17_x86_64.manylinux2014_x86_64.whl (7.8 MB)\n",
            "\u001b[2K     \u001b[90m━━━━━━━━━━━━━━━━━━━━━━━━━━━━━━━━━━━━━━━━\u001b[0m \u001b[32m7.8/7.8 MB\u001b[0m \u001b[31m102.1 MB/s\u001b[0m eta \u001b[36m0:00:00\u001b[0m\n",
            "\u001b[?25hRequirement already satisfied: numpy>=1.17 in /usr/local/lib/python3.9/dist-packages (from transformers) (1.22.4)\n",
            "Requirement already satisfied: requests in /usr/local/lib/python3.9/dist-packages (from transformers) (2.27.1)\n",
            "Requirement already satisfied: pyyaml>=5.1 in /usr/local/lib/python3.9/dist-packages (from transformers) (6.0)\n",
            "Requirement already satisfied: tqdm>=4.27 in /usr/local/lib/python3.9/dist-packages (from transformers) (4.65.0)\n",
            "Collecting huggingface-hub<1.0,>=0.11.0\n",
            "  Downloading huggingface_hub-0.13.4-py3-none-any.whl (200 kB)\n",
            "\u001b[2K     \u001b[90m━━━━━━━━━━━━━━━━━━━━━━━━━━━━━━━━━━━━━━\u001b[0m \u001b[32m200.1/200.1 kB\u001b[0m \u001b[31m22.8 MB/s\u001b[0m eta \u001b[36m0:00:00\u001b[0m\n",
            "\u001b[?25hRequirement already satisfied: regex!=2019.12.17 in /usr/local/lib/python3.9/dist-packages (from transformers) (2022.10.31)\n",
            "Requirement already satisfied: packaging>=20.0 in /usr/local/lib/python3.9/dist-packages (from transformers) (23.0)\n",
            "Requirement already satisfied: filelock in /usr/local/lib/python3.9/dist-packages (from transformers) (3.10.7)\n",
            "Requirement already satisfied: typing-extensions>=3.7.4.3 in /usr/local/lib/python3.9/dist-packages (from huggingface-hub<1.0,>=0.11.0->transformers) (4.5.0)\n",
            "Requirement already satisfied: certifi>=2017.4.17 in /usr/local/lib/python3.9/dist-packages (from requests->transformers) (2022.12.7)\n",
            "Requirement already satisfied: urllib3<1.27,>=1.21.1 in /usr/local/lib/python3.9/dist-packages (from requests->transformers) (1.26.15)\n",
            "Requirement already satisfied: charset-normalizer~=2.0.0 in /usr/local/lib/python3.9/dist-packages (from requests->transformers) (2.0.12)\n",
            "Requirement already satisfied: idna<4,>=2.5 in /usr/local/lib/python3.9/dist-packages (from requests->transformers) (3.4)\n",
            "Installing collected packages: tokenizers, huggingface-hub, transformers\n",
            "Successfully installed huggingface-hub-0.13.4 tokenizers-0.13.3 transformers-4.27.4\n"
          ]
        }
      ],
      "source": [
        "!pip install emoji\n",
        "!pip install transformers"
      ]
    },
    {
      "cell_type": "code",
      "execution_count": 53,
      "metadata": {
        "id": "rk24f4pVZZAb"
      },
      "outputs": [],
      "source": [
        "import pandas as pd\n",
        "import numpy as np\n",
        "import os\n",
        "import csv\n",
        "import tensorflow as tf\n",
        "\n",
        "import emoji\n",
        "import re, string\n",
        "import nltk\n",
        "\n",
        "import matplotlib.pyplot as plt\n",
        "import seaborn as sns\n",
        "\n",
        "#transformers\n",
        "from transformers import BertTokenizerFast\n",
        "from transformers import TFBertModel\n",
        "\n",
        "from sklearn import preprocessing\n",
        "from imblearn.over_sampling import RandomOverSampler\n",
        "from sklearn.model_selection import train_test_split\n",
        "\n",
        "#Naive Bayes\n",
        "from sklearn.feature_extraction.text import CountVectorizer\n",
        "from sklearn.feature_extraction.text import TfidfTransformer\n",
        "from sklearn.naive_bayes import MultinomialNB\n",
        "\n",
        "#metrics\n",
        "from sklearn.metrics import accuracy_score, f1_score\n",
        "from sklearn.metrics import classification_report, confusion_matrix\n",
        "\n",
        "from tensorflow.keras.preprocessing.sequence import pad_sequences\n",
        "\n",
        "from sklearn.metrics import confusion_matrix\n",
        "import seaborn as sns\n",
        "import matplotlib.pyplot as plt"
      ]
    },
    {
      "cell_type": "markdown",
      "metadata": {
        "id": "sj60Rhx0kUpC"
      },
      "source": [
        "# Read and Prepare Data"
      ]
    },
    {
      "cell_type": "code",
      "execution_count": null,
      "metadata": {
        "id": "zq5ZrGbnZgf9"
      },
      "outputs": [],
      "source": [
        "df = pd.read_csv('/content/drive/MyDrive/PFA/DATASET/trainset.csv',encoding='ISO-8859-1')\n",
        "df_test = pd.read_csv('/content/drive/MyDrive/PFA/DATASET/testset.csv',encoding='ISO-8859-1')"
      ]
    },
    {
      "cell_type": "code",
      "execution_count": null,
      "metadata": {
        "id": "-5ZLFyykc00v"
      },
      "outputs": [],
      "source": [
        "\n",
        "df=df[[\"user_name\",\"Dates\",\"Captions\",\"I-E\",\"S-N\",\"T-F\",\"J-P\"]]\n",
        "df_test=df_test[[\"user_name\",\"Dates\",\"Captions\",\"I-E\",\"S-N\",\"T-F\",\"J-P\"]]"
      ]
    },
    {
      "cell_type": "code",
      "execution_count": null,
      "metadata": {
        "colab": {
          "base_uri": "https://localhost:8080/",
          "height": 143
        },
        "id": "IkJAnip-v3Tg",
        "outputId": "2fad398a-0d0b-418e-9866-f90976faffb7"
      },
      "outputs": [
        {
          "output_type": "execute_result",
          "data": {
            "text/plain": [
              "   user_name                                              Dates  \\\n",
              "0    barajas  ['2017-05-02 00:15:10', '2017-06-01 16:12:18',...   \n",
              "1  chricchio  ['2017-04-07 19:15:33', '2017-04-16 20:48:50',...   \n",
              "2    lyndsmc  ['2017-04-30 17:35:34', '2017-07-05 01:21:48',...   \n",
              "\n",
              "                                            Captions  I-E  S-N  T-F  J-P  \n",
              "0  ['Dog in sunset.\\n', 'First of June\\n', 'Anoth...  1.0  1.0  0.0  1.0  \n",
              "1  ['Dark Brick Side\\n', 'Genio nei cessi del cin...  0.0  0.0  0.0  0.0  \n",
              "2  ['Stop and smell the firework flowers. #firewo...  0.0  0.0  0.0  0.0  "
            ],
            "text/html": [
              "\n",
              "  <div id=\"df-748b2e0a-30c5-4c9e-9280-879abbcbd8f0\">\n",
              "    <div class=\"colab-df-container\">\n",
              "      <div>\n",
              "<style scoped>\n",
              "    .dataframe tbody tr th:only-of-type {\n",
              "        vertical-align: middle;\n",
              "    }\n",
              "\n",
              "    .dataframe tbody tr th {\n",
              "        vertical-align: top;\n",
              "    }\n",
              "\n",
              "    .dataframe thead th {\n",
              "        text-align: right;\n",
              "    }\n",
              "</style>\n",
              "<table border=\"1\" class=\"dataframe\">\n",
              "  <thead>\n",
              "    <tr style=\"text-align: right;\">\n",
              "      <th></th>\n",
              "      <th>user_name</th>\n",
              "      <th>Dates</th>\n",
              "      <th>Captions</th>\n",
              "      <th>I-E</th>\n",
              "      <th>S-N</th>\n",
              "      <th>T-F</th>\n",
              "      <th>J-P</th>\n",
              "    </tr>\n",
              "  </thead>\n",
              "  <tbody>\n",
              "    <tr>\n",
              "      <th>0</th>\n",
              "      <td>barajas</td>\n",
              "      <td>['2017-05-02 00:15:10', '2017-06-01 16:12:18',...</td>\n",
              "      <td>['Dog in sunset.\\n', 'First of June\\n', 'Anoth...</td>\n",
              "      <td>1.0</td>\n",
              "      <td>1.0</td>\n",
              "      <td>0.0</td>\n",
              "      <td>1.0</td>\n",
              "    </tr>\n",
              "    <tr>\n",
              "      <th>1</th>\n",
              "      <td>chricchio</td>\n",
              "      <td>['2017-04-07 19:15:33', '2017-04-16 20:48:50',...</td>\n",
              "      <td>['Dark Brick Side\\n', 'Genio nei cessi del cin...</td>\n",
              "      <td>0.0</td>\n",
              "      <td>0.0</td>\n",
              "      <td>0.0</td>\n",
              "      <td>0.0</td>\n",
              "    </tr>\n",
              "    <tr>\n",
              "      <th>2</th>\n",
              "      <td>lyndsmc</td>\n",
              "      <td>['2017-04-30 17:35:34', '2017-07-05 01:21:48',...</td>\n",
              "      <td>['Stop and smell the firework flowers. #firewo...</td>\n",
              "      <td>0.0</td>\n",
              "      <td>0.0</td>\n",
              "      <td>0.0</td>\n",
              "      <td>0.0</td>\n",
              "    </tr>\n",
              "  </tbody>\n",
              "</table>\n",
              "</div>\n",
              "      <button class=\"colab-df-convert\" onclick=\"convertToInteractive('df-748b2e0a-30c5-4c9e-9280-879abbcbd8f0')\"\n",
              "              title=\"Convert this dataframe to an interactive table.\"\n",
              "              style=\"display:none;\">\n",
              "        \n",
              "  <svg xmlns=\"http://www.w3.org/2000/svg\" height=\"24px\"viewBox=\"0 0 24 24\"\n",
              "       width=\"24px\">\n",
              "    <path d=\"M0 0h24v24H0V0z\" fill=\"none\"/>\n",
              "    <path d=\"M18.56 5.44l.94 2.06.94-2.06 2.06-.94-2.06-.94-.94-2.06-.94 2.06-2.06.94zm-11 1L8.5 8.5l.94-2.06 2.06-.94-2.06-.94L8.5 2.5l-.94 2.06-2.06.94zm10 10l.94 2.06.94-2.06 2.06-.94-2.06-.94-.94-2.06-.94 2.06-2.06.94z\"/><path d=\"M17.41 7.96l-1.37-1.37c-.4-.4-.92-.59-1.43-.59-.52 0-1.04.2-1.43.59L10.3 9.45l-7.72 7.72c-.78.78-.78 2.05 0 2.83L4 21.41c.39.39.9.59 1.41.59.51 0 1.02-.2 1.41-.59l7.78-7.78 2.81-2.81c.8-.78.8-2.07 0-2.86zM5.41 20L4 18.59l7.72-7.72 1.47 1.35L5.41 20z\"/>\n",
              "  </svg>\n",
              "      </button>\n",
              "      \n",
              "  <style>\n",
              "    .colab-df-container {\n",
              "      display:flex;\n",
              "      flex-wrap:wrap;\n",
              "      gap: 12px;\n",
              "    }\n",
              "\n",
              "    .colab-df-convert {\n",
              "      background-color: #E8F0FE;\n",
              "      border: none;\n",
              "      border-radius: 50%;\n",
              "      cursor: pointer;\n",
              "      display: none;\n",
              "      fill: #1967D2;\n",
              "      height: 32px;\n",
              "      padding: 0 0 0 0;\n",
              "      width: 32px;\n",
              "    }\n",
              "\n",
              "    .colab-df-convert:hover {\n",
              "      background-color: #E2EBFA;\n",
              "      box-shadow: 0px 1px 2px rgba(60, 64, 67, 0.3), 0px 1px 3px 1px rgba(60, 64, 67, 0.15);\n",
              "      fill: #174EA6;\n",
              "    }\n",
              "\n",
              "    [theme=dark] .colab-df-convert {\n",
              "      background-color: #3B4455;\n",
              "      fill: #D2E3FC;\n",
              "    }\n",
              "\n",
              "    [theme=dark] .colab-df-convert:hover {\n",
              "      background-color: #434B5C;\n",
              "      box-shadow: 0px 1px 3px 1px rgba(0, 0, 0, 0.15);\n",
              "      filter: drop-shadow(0px 1px 2px rgba(0, 0, 0, 0.3));\n",
              "      fill: #FFFFFF;\n",
              "    }\n",
              "  </style>\n",
              "\n",
              "      <script>\n",
              "        const buttonEl =\n",
              "          document.querySelector('#df-748b2e0a-30c5-4c9e-9280-879abbcbd8f0 button.colab-df-convert');\n",
              "        buttonEl.style.display =\n",
              "          google.colab.kernel.accessAllowed ? 'block' : 'none';\n",
              "\n",
              "        async function convertToInteractive(key) {\n",
              "          const element = document.querySelector('#df-748b2e0a-30c5-4c9e-9280-879abbcbd8f0');\n",
              "          const dataTable =\n",
              "            await google.colab.kernel.invokeFunction('convertToInteractive',\n",
              "                                                     [key], {});\n",
              "          if (!dataTable) return;\n",
              "\n",
              "          const docLinkHtml = 'Like what you see? Visit the ' +\n",
              "            '<a target=\"_blank\" href=https://colab.research.google.com/notebooks/data_table.ipynb>data table notebook</a>'\n",
              "            + ' to learn more about interactive tables.';\n",
              "          element.innerHTML = '';\n",
              "          dataTable['output_type'] = 'display_data';\n",
              "          await google.colab.output.renderOutput(dataTable, element);\n",
              "          const docLink = document.createElement('div');\n",
              "          docLink.innerHTML = docLinkHtml;\n",
              "          element.appendChild(docLink);\n",
              "        }\n",
              "      </script>\n",
              "    </div>\n",
              "  </div>\n",
              "  "
            ]
          },
          "metadata": {},
          "execution_count": 6
        }
      ],
      "source": [
        "df.head(3)"
      ]
    },
    {
      "cell_type": "code",
      "execution_count": null,
      "metadata": {
        "id": "2w8SmdbKuha3"
      },
      "outputs": [],
      "source": [
        "\"\"\" \n",
        "  All caption will concatinated in the user_caption field\n",
        "\"\"\"\n",
        "def caption_preparation(df):\n",
        "  captions_list= []\n",
        "  for user in df[\"Captions\"]:\n",
        "    user_caption =\"\"\n",
        "    for caption_index,caption in enumerate(eval(user)):\n",
        "      user_caption += caption + \"  ,  \"\n",
        "    captions_list.append(user_caption)\n",
        "  df[\"user_caption\"]= captions_list"
      ]
    },
    {
      "cell_type": "code",
      "execution_count": null,
      "metadata": {
        "id": "eGEefW5uvkjg"
      },
      "outputs": [],
      "source": [
        "caption_preparation(df)\n",
        "caption_preparation(df_test)"
      ]
    },
    {
      "cell_type": "markdown",
      "metadata": {
        "id": "IQ5h1aPAkY8G"
      },
      "source": [
        "# Preprocessing"
      ]
    },
    {
      "cell_type": "markdown",
      "metadata": {
        "id": "SRxGzFEtgHCZ"
      },
      "source": [
        "## Cleaning Functions "
      ]
    },
    {
      "cell_type": "code",
      "execution_count": null,
      "metadata": {
        "id": "ALKbel1tpojd"
      },
      "outputs": [],
      "source": [
        "#Clean emojis from text\n",
        "def strip_emoji(text):\n",
        "  \"\"\"\n",
        "  Remove emojis from a string.\n",
        "  \"\"\"\n",
        "  emoji_pattern = emoji_pattern = re.compile(\"[\"\n",
        "                      u\"\\U0001F600-\\U0001F64F\"  # emoticons\n",
        "                      u\"\\U0001F300-\\U0001F5FF\"  # symbols & pictographs\n",
        "                      u\"\\U0001F680-\\U0001F6FF\"  # transport & map symbols\n",
        "                      u\"\\U0001F1E0-\\U0001F1FF\"  # flags (iOS)\n",
        "                      u\"\\U00002702-\\U000027B0\"\n",
        "                      u\"\\U000024C2-\\U0001F251\"\n",
        "                      \"]+\", flags=re.UNICODE)\n",
        "  return emoji_pattern.sub(r'', text)"
      ]
    },
    {
      "cell_type": "code",
      "execution_count": null,
      "metadata": {
        "id": "0rRLjZURprOc"
      },
      "outputs": [],
      "source": [
        "#Remove punctuations, links, mentions and \\r\\n new line characters\n",
        "def strip_all_entities(text): \n",
        "    text = text.replace('\\r', '').replace('\\n', ' ').replace('\\n', ' ').lower() #remove \\n and \\r and lowercase\n",
        "    text = re.sub(r\"(?:\\@|https?\\://)\\S+\", \"\", text) #remove links and mentions\n",
        "    text = re.sub(r'[^\\x00-\\x7f]',r'', text) #remove non utf8/ascii characters such as '\\x9a\\x91\\x97\\x9a\\x97'\n",
        "    banned_list= string.punctuation + 'Ã'+'±'+'ã'+'¼'+'â'+'»'+'§'\n",
        "    table = str.maketrans('', '', banned_list)\n",
        "    text = text.translate(table)\n",
        "    return text"
      ]
    },
    {
      "cell_type": "code",
      "execution_count": null,
      "metadata": {
        "id": "zUcBZ_Peptkm"
      },
      "outputs": [],
      "source": [
        "#clean hashtags at the end of the sentence, and keep those in the middle of the sentence by removing just the # symbol\n",
        "def clean_hashtags(caption):\n",
        "    new_caption = \" \".join(word.strip() for word in re.split('#(?!(?:hashtag)\\b)[\\w-]+(?=(?:\\s+#[\\w-]+)*\\s*$)', caption)) #remove last hashtags\n",
        "    new_caption2 = \" \".join(word.strip() for word in re.split('#|_', new_caption)) #remove hashtags symbol from words in the middle of the sentence\n",
        "    return new_caption2"
      ]
    },
    {
      "cell_type": "code",
      "execution_count": null,
      "metadata": {
        "id": "LqJGKjiTpveZ"
      },
      "outputs": [],
      "source": [
        "#Filter special characters such as & and $ present in some words\n",
        "def filter_chars(a):\n",
        "    sent = []\n",
        "    for word in a.split(' '):\n",
        "        if ('$' in word) | ('&' in word):\n",
        "            sent.append('')\n",
        "        else:\n",
        "            sent.append(word)\n",
        "    return ' '.join(sent)"
      ]
    },
    {
      "cell_type": "code",
      "execution_count": null,
      "metadata": {
        "id": "bMahJ9aupxJP"
      },
      "outputs": [],
      "source": [
        "def remove_mult_spaces(text): # remove multiple spaces\n",
        "    return re.sub(\"\\s\\s+\" , \" \", text)"
      ]
    },
    {
      "cell_type": "markdown",
      "metadata": {
        "id": "vu4O4brzgKpm"
      },
      "source": [
        "## Apply Cleaning Functions  "
      ]
    },
    {
      "cell_type": "code",
      "execution_count": null,
      "metadata": {
        "id": "09Uqg5p0xagQ"
      },
      "outputs": [],
      "source": [
        "def clean(df):\n",
        "  texts_new = []\n",
        "  for caption in df[\"user_caption\"]:\n",
        "      texts_new.append(remove_mult_spaces(filter_chars(clean_hashtags(strip_all_entities(strip_emoji(caption))))))\n",
        "  df['text_clean'] = texts_new"
      ]
    },
    {
      "cell_type": "code",
      "execution_count": null,
      "metadata": {
        "id": "iT45tu1spz5f"
      },
      "outputs": [],
      "source": [
        "# For trainset\n",
        "clean(df)\n",
        "# For trainset\n",
        "clean(df_test)"
      ]
    },
    {
      "cell_type": "markdown",
      "metadata": {
        "id": "illBMYPA5fDB"
      },
      "source": [
        "## Encoding "
      ]
    },
    {
      "cell_type": "code",
      "execution_count": null,
      "metadata": {
        "id": "fDJVgzJGywj5"
      },
      "outputs": [],
      "source": [
        "def encoding (df , att):\n",
        "  df[att] = df[att].map({1.0:1,0.0:0})"
      ]
    },
    {
      "cell_type": "code",
      "execution_count": null,
      "metadata": {
        "id": "wPJ08h4N6roU"
      },
      "outputs": [],
      "source": [
        "encoding(df,'I-E')\n",
        "encoding(df_test,'I-E')"
      ]
    },
    {
      "cell_type": "markdown",
      "metadata": {
        "id": "YAQtTVn_q5Wr"
      },
      "source": [
        "## Prepare Tokenizers"
      ]
    },
    {
      "cell_type": "code",
      "execution_count": null,
      "metadata": {
        "id": "QP3U2sHt-YCN"
      },
      "outputs": [],
      "source": [
        "MAX_LEN=128"
      ]
    },
    {
      "cell_type": "code",
      "execution_count": null,
      "metadata": {
        "id": "mpfl1y64cooe"
      },
      "outputs": [],
      "source": [
        "from transformers import TFGPT2Model, GPT2Tokenizer\n",
        "# Define a custom tokenizer function and call the encode_plus method of the BERT tokenizer.\n",
        "def tokenize_function(caption) :\n",
        "  \"\"\"\n",
        "  \"input_ids\" contient les IDs des tokens pour chaque phrase encodée\n",
        "  \"attention_masks\" contient des masques d'attention pour chaque phrase encodée.\n",
        "  \"\"\"\n",
        "  tokenizer = GPT2Tokenizer.from_pretrained('gpt2')\n",
        "  tokenizer.add_special_tokens({'pad_token': '[PAD]'})\n",
        "  tokens = tokenizer.encode_plus(\n",
        "      caption,\n",
        "      add_special_tokens=True,\n",
        "      max_length=128,\n",
        "      padding=True,\n",
        "      truncation=True,\n",
        "      return_attention_mask=True\n",
        "  )\n",
        "  return tokens['input_ids'], tokens['attention_mask']"
      ]
    },
    {
      "cell_type": "code",
      "execution_count": null,
      "metadata": {
        "id": "Ob3CFEVafyw4"
      },
      "outputs": [],
      "source": [
        "def tokenizing_df(df): \n",
        "  all_input_ids=[]\n",
        "  all_attention_masks=[]\n",
        "  for caption in df[\"text_clean\"]:\n",
        "    input_ids , attention_masks  = tokenize_function(caption)\n",
        "    all_input_ids.append(input_ids)\n",
        "    all_attention_masks.append(attention_masks)\n",
        "\n",
        "  df['input_ids_gpt2'], df['attention_masks_gpt2'] = all_input_ids, all_attention_masks\n",
        "  return df"
      ]
    },
    {
      "cell_type": "code",
      "execution_count": null,
      "metadata": {
        "colab": {
          "base_uri": "https://localhost:8080/",
          "height": 113,
          "referenced_widgets": [
            "400b1f2db16f4ee5842a71bd22dbd249",
            "854d35d776884356a99c08a5420ce749",
            "2d0b5d49ff1a48e390f4b3d42fc5729b",
            "b721d998f76c440db78e407db888d68f",
            "46c79b85a62a40328223892503121895",
            "eec5630ec32a4655b07dc4e4e433f4b8",
            "a33da43ffa964786b7cd3716fa34981a",
            "dcb06dda05fa40bb90895a347b9b97fb",
            "79dd79d73e1147c1913281b996a5c19f",
            "fde510c45c18400e9733f5df84b2ed2c",
            "daca9616f1ab4beb97341223b12480ef",
            "3d7db42bddc5480488ab2b4cb8fa89e6",
            "dcb92dfe43b443288fb69a7729e9255b",
            "c8fccc7b91a9421b86f98a07647aad25",
            "469b39d3ac174dc0834bfc1fea96a2a7",
            "779f69d94be14aa8869f40d43d661fea",
            "a4626d58ae6f408b90f17aaca356686b",
            "ff7cdf26d22b47d6b810c21223595182",
            "818a776ac0594734a0eef04cfa576a81",
            "ba3168bce1c849dea89101f62932b125",
            "ef8fef902a42498985e52ef2f236f024",
            "4a25b2130ace4545959e6751078d12c6",
            "a61bb0165d2f4c00a55a0de130322577",
            "7818632c5af445bdbf9799b4221fd57e",
            "826202f17e5c4019a9aadd2397670c16",
            "cf8befcf8a1e4275a6ebfa4ab17e297e",
            "7ae280ee43e84972884d5f352807563c",
            "8a4c42d272274715b1db4d000bbfe51f",
            "a347a2b0889342c7a8e16eafe43b1209",
            "0def02cdc6fe4126bfc807fd635fe0a6",
            "b3fcaef08e20417f93bd53030b3b36e0",
            "2626cf3dab8a40789437947515d0fa0d",
            "878d316a4924479e932a4da32aa35dd5"
          ]
        },
        "id": "uBbjMZABel8A",
        "outputId": "323bc3df-3079-4eab-b175-df2cb9b7b326"
      },
      "outputs": [
        {
          "output_type": "display_data",
          "data": {
            "text/plain": [
              "Downloading (…)olve/main/vocab.json:   0%|          | 0.00/1.04M [00:00<?, ?B/s]"
            ],
            "application/vnd.jupyter.widget-view+json": {
              "version_major": 2,
              "version_minor": 0,
              "model_id": "400b1f2db16f4ee5842a71bd22dbd249"
            }
          },
          "metadata": {}
        },
        {
          "output_type": "display_data",
          "data": {
            "text/plain": [
              "Downloading (…)olve/main/merges.txt:   0%|          | 0.00/456k [00:00<?, ?B/s]"
            ],
            "application/vnd.jupyter.widget-view+json": {
              "version_major": 2,
              "version_minor": 0,
              "model_id": "3d7db42bddc5480488ab2b4cb8fa89e6"
            }
          },
          "metadata": {}
        },
        {
          "output_type": "display_data",
          "data": {
            "text/plain": [
              "Downloading (…)lve/main/config.json:   0%|          | 0.00/665 [00:00<?, ?B/s]"
            ],
            "application/vnd.jupyter.widget-view+json": {
              "version_major": 2,
              "version_minor": 0,
              "model_id": "a61bb0165d2f4c00a55a0de130322577"
            }
          },
          "metadata": {}
        }
      ],
      "source": [
        "df=tokenizing_df(df)\n",
        "df_test=tokenizing_df(df_test)"
      ]
    },
    {
      "cell_type": "markdown",
      "metadata": {
        "id": "4UC7ZXVKfaM6"
      },
      "source": [
        "## Shuffle"
      ]
    },
    {
      "cell_type": "code",
      "execution_count": null,
      "metadata": {
        "id": "TElVn64aszTb"
      },
      "outputs": [],
      "source": [
        "# Shuffle\n",
        "df = df.sample(frac=1).reset_index(drop=True)\n",
        "df_test=df.sample(frac=1).reset_index(drop=True)"
      ]
    },
    {
      "cell_type": "code",
      "execution_count": null,
      "metadata": {
        "colab": {
          "base_uri": "https://localhost:8080/",
          "height": 485
        },
        "id": "jQSGBOGLhtH6",
        "outputId": "35defd68-9c85-4f59-dcc2-88ec0c53ae50"
      },
      "outputs": [
        {
          "output_type": "execute_result",
          "data": {
            "text/plain": [
              "         user_name                                              Dates  \\\n",
              "0     hishamsaidak  ['2018-07-12 07:14:56', '2019-05-15 09:25:11',...   \n",
              "1       luisgomezt  ['2017-04-10 02:06:08', '2017-04-10 20:04:21',...   \n",
              "2  michaelguenther  ['2017-03-31 19:29:48', '2017-05-08 02:43:06',...   \n",
              "\n",
              "                                            Captions  I-E  S-N  T-F  J-P  \\\n",
              "0  ['Participating in RAPID SMQ2 Townhall & Raya ...    0  1.0  0.0  0.0   \n",
              "1  ['Sin palabras!!!\\n', 'Eso sÃ­ que se contagia...    0  0.0  0.0  0.0   \n",
              "2  [\"I recently tweeted about Papillons and then ...    0  0.0  0.0  0.0   \n",
              "\n",
              "                                        user_caption  \\\n",
              "0  Participating in RAPID SMQ2 Townhall & Raya Ce...   \n",
              "1  Sin palabras!!!\\n  ,  Eso sÃ­ que se contagia!...   \n",
              "2  I recently tweeted about Papillons and then th...   \n",
              "\n",
              "                                          text_clean  \\\n",
              "0  participating in rapid smq2 townhall raya cele...   \n",
              "1  sin palabras eso s que se contagia wildlife el...   \n",
              "2  i recently tweeted about papillons and then th...   \n",
              "\n",
              "                                      input_ids_gpt2  \\\n",
              "0  [48013, 803, 287, 5801, 895, 80, 17, 3240, 183...   \n",
              "1  [31369, 6340, 397, 8847, 1658, 78, 264, 8358, ...   \n",
              "2  [72, 2904, 10830, 546, 20461, 359, 684, 290, 7...   \n",
              "\n",
              "                                attention_masks_gpt2  \n",
              "0  [1, 1, 1, 1, 1, 1, 1, 1, 1, 1, 1, 1, 1, 1, 1, ...  \n",
              "1  [1, 1, 1, 1, 1, 1, 1, 1, 1, 1, 1, 1, 1, 1, 1, ...  \n",
              "2  [1, 1, 1, 1, 1, 1, 1, 1, 1, 1, 1, 1, 1, 1, 1, ...  "
            ],
            "text/html": [
              "\n",
              "  <div id=\"df-132a599d-3ba6-470b-b8c2-434927c7520b\">\n",
              "    <div class=\"colab-df-container\">\n",
              "      <div>\n",
              "<style scoped>\n",
              "    .dataframe tbody tr th:only-of-type {\n",
              "        vertical-align: middle;\n",
              "    }\n",
              "\n",
              "    .dataframe tbody tr th {\n",
              "        vertical-align: top;\n",
              "    }\n",
              "\n",
              "    .dataframe thead th {\n",
              "        text-align: right;\n",
              "    }\n",
              "</style>\n",
              "<table border=\"1\" class=\"dataframe\">\n",
              "  <thead>\n",
              "    <tr style=\"text-align: right;\">\n",
              "      <th></th>\n",
              "      <th>user_name</th>\n",
              "      <th>Dates</th>\n",
              "      <th>Captions</th>\n",
              "      <th>I-E</th>\n",
              "      <th>S-N</th>\n",
              "      <th>T-F</th>\n",
              "      <th>J-P</th>\n",
              "      <th>user_caption</th>\n",
              "      <th>text_clean</th>\n",
              "      <th>input_ids_gpt2</th>\n",
              "      <th>attention_masks_gpt2</th>\n",
              "    </tr>\n",
              "  </thead>\n",
              "  <tbody>\n",
              "    <tr>\n",
              "      <th>0</th>\n",
              "      <td>hishamsaidak</td>\n",
              "      <td>['2018-07-12 07:14:56', '2019-05-15 09:25:11',...</td>\n",
              "      <td>['Participating in RAPID SMQ2 Townhall &amp; Raya ...</td>\n",
              "      <td>0</td>\n",
              "      <td>1.0</td>\n",
              "      <td>0.0</td>\n",
              "      <td>0.0</td>\n",
              "      <td>Participating in RAPID SMQ2 Townhall &amp; Raya Ce...</td>\n",
              "      <td>participating in rapid smq2 townhall raya cele...</td>\n",
              "      <td>[48013, 803, 287, 5801, 895, 80, 17, 3240, 183...</td>\n",
              "      <td>[1, 1, 1, 1, 1, 1, 1, 1, 1, 1, 1, 1, 1, 1, 1, ...</td>\n",
              "    </tr>\n",
              "    <tr>\n",
              "      <th>1</th>\n",
              "      <td>luisgomezt</td>\n",
              "      <td>['2017-04-10 02:06:08', '2017-04-10 20:04:21',...</td>\n",
              "      <td>['Sin palabras!!!\\n', 'Eso sÃ­ que se contagia...</td>\n",
              "      <td>0</td>\n",
              "      <td>0.0</td>\n",
              "      <td>0.0</td>\n",
              "      <td>0.0</td>\n",
              "      <td>Sin palabras!!!\\n  ,  Eso sÃ­ que se contagia!...</td>\n",
              "      <td>sin palabras eso s que se contagia wildlife el...</td>\n",
              "      <td>[31369, 6340, 397, 8847, 1658, 78, 264, 8358, ...</td>\n",
              "      <td>[1, 1, 1, 1, 1, 1, 1, 1, 1, 1, 1, 1, 1, 1, 1, ...</td>\n",
              "    </tr>\n",
              "    <tr>\n",
              "      <th>2</th>\n",
              "      <td>michaelguenther</td>\n",
              "      <td>['2017-03-31 19:29:48', '2017-05-08 02:43:06',...</td>\n",
              "      <td>[\"I recently tweeted about Papillons and then ...</td>\n",
              "      <td>0</td>\n",
              "      <td>0.0</td>\n",
              "      <td>0.0</td>\n",
              "      <td>0.0</td>\n",
              "      <td>I recently tweeted about Papillons and then th...</td>\n",
              "      <td>i recently tweeted about papillons and then th...</td>\n",
              "      <td>[72, 2904, 10830, 546, 20461, 359, 684, 290, 7...</td>\n",
              "      <td>[1, 1, 1, 1, 1, 1, 1, 1, 1, 1, 1, 1, 1, 1, 1, ...</td>\n",
              "    </tr>\n",
              "  </tbody>\n",
              "</table>\n",
              "</div>\n",
              "      <button class=\"colab-df-convert\" onclick=\"convertToInteractive('df-132a599d-3ba6-470b-b8c2-434927c7520b')\"\n",
              "              title=\"Convert this dataframe to an interactive table.\"\n",
              "              style=\"display:none;\">\n",
              "        \n",
              "  <svg xmlns=\"http://www.w3.org/2000/svg\" height=\"24px\"viewBox=\"0 0 24 24\"\n",
              "       width=\"24px\">\n",
              "    <path d=\"M0 0h24v24H0V0z\" fill=\"none\"/>\n",
              "    <path d=\"M18.56 5.44l.94 2.06.94-2.06 2.06-.94-2.06-.94-.94-2.06-.94 2.06-2.06.94zm-11 1L8.5 8.5l.94-2.06 2.06-.94-2.06-.94L8.5 2.5l-.94 2.06-2.06.94zm10 10l.94 2.06.94-2.06 2.06-.94-2.06-.94-.94-2.06-.94 2.06-2.06.94z\"/><path d=\"M17.41 7.96l-1.37-1.37c-.4-.4-.92-.59-1.43-.59-.52 0-1.04.2-1.43.59L10.3 9.45l-7.72 7.72c-.78.78-.78 2.05 0 2.83L4 21.41c.39.39.9.59 1.41.59.51 0 1.02-.2 1.41-.59l7.78-7.78 2.81-2.81c.8-.78.8-2.07 0-2.86zM5.41 20L4 18.59l7.72-7.72 1.47 1.35L5.41 20z\"/>\n",
              "  </svg>\n",
              "      </button>\n",
              "      \n",
              "  <style>\n",
              "    .colab-df-container {\n",
              "      display:flex;\n",
              "      flex-wrap:wrap;\n",
              "      gap: 12px;\n",
              "    }\n",
              "\n",
              "    .colab-df-convert {\n",
              "      background-color: #E8F0FE;\n",
              "      border: none;\n",
              "      border-radius: 50%;\n",
              "      cursor: pointer;\n",
              "      display: none;\n",
              "      fill: #1967D2;\n",
              "      height: 32px;\n",
              "      padding: 0 0 0 0;\n",
              "      width: 32px;\n",
              "    }\n",
              "\n",
              "    .colab-df-convert:hover {\n",
              "      background-color: #E2EBFA;\n",
              "      box-shadow: 0px 1px 2px rgba(60, 64, 67, 0.3), 0px 1px 3px 1px rgba(60, 64, 67, 0.15);\n",
              "      fill: #174EA6;\n",
              "    }\n",
              "\n",
              "    [theme=dark] .colab-df-convert {\n",
              "      background-color: #3B4455;\n",
              "      fill: #D2E3FC;\n",
              "    }\n",
              "\n",
              "    [theme=dark] .colab-df-convert:hover {\n",
              "      background-color: #434B5C;\n",
              "      box-shadow: 0px 1px 3px 1px rgba(0, 0, 0, 0.15);\n",
              "      filter: drop-shadow(0px 1px 2px rgba(0, 0, 0, 0.3));\n",
              "      fill: #FFFFFF;\n",
              "    }\n",
              "  </style>\n",
              "\n",
              "      <script>\n",
              "        const buttonEl =\n",
              "          document.querySelector('#df-132a599d-3ba6-470b-b8c2-434927c7520b button.colab-df-convert');\n",
              "        buttonEl.style.display =\n",
              "          google.colab.kernel.accessAllowed ? 'block' : 'none';\n",
              "\n",
              "        async function convertToInteractive(key) {\n",
              "          const element = document.querySelector('#df-132a599d-3ba6-470b-b8c2-434927c7520b');\n",
              "          const dataTable =\n",
              "            await google.colab.kernel.invokeFunction('convertToInteractive',\n",
              "                                                     [key], {});\n",
              "          if (!dataTable) return;\n",
              "\n",
              "          const docLinkHtml = 'Like what you see? Visit the ' +\n",
              "            '<a target=\"_blank\" href=https://colab.research.google.com/notebooks/data_table.ipynb>data table notebook</a>'\n",
              "            + ' to learn more about interactive tables.';\n",
              "          element.innerHTML = '';\n",
              "          dataTable['output_type'] = 'display_data';\n",
              "          await google.colab.output.renderOutput(dataTable, element);\n",
              "          const docLink = document.createElement('div');\n",
              "          docLink.innerHTML = docLinkHtml;\n",
              "          element.appendChild(docLink);\n",
              "        }\n",
              "      </script>\n",
              "    </div>\n",
              "  </div>\n",
              "  "
            ]
          },
          "metadata": {},
          "execution_count": 23
        }
      ],
      "source": [
        "df.head(3)"
      ]
    },
    {
      "cell_type": "markdown",
      "metadata": {
        "id": "wxt3sFRo2jmn"
      },
      "source": [
        "## Train-validation split"
      ]
    },
    {
      "cell_type": "code",
      "execution_count": null,
      "metadata": {
        "id": "b_cL-RojuPJv"
      },
      "outputs": [],
      "source": [
        "def spliting_data(df,ids,att_mask, att):\n",
        "  data = df[[ids,att_mask,att]]\n",
        "  train_data, valid_data = train_test_split(data, test_size=0.1, random_state=42)\n",
        "  X_train= train_data[[ids,att_mask]]\n",
        "  y_train = train_data[[att]]\n",
        "  X_val= valid_data[[ids,att_mask]]\n",
        "  y_val = valid_data[[att]]\n",
        "  return X_train, X_val, y_train, y_val"
      ]
    },
    {
      "cell_type": "code",
      "execution_count": null,
      "metadata": {
        "id": "iT8YHmZVuamt"
      },
      "outputs": [],
      "source": [
        "X_train, X_valid, y_train_ie, y_valid_ie = spliting_data(df,'input_ids_gpt2','attention_masks_gpt2', 'I-E')"
      ]
    },
    {
      "cell_type": "code",
      "source": [
        "X_train, X_valid, y_train_sn, y_valid_sn = spliting_data(df,'input_ids_gpt2','attention_masks_gpt2', 'S-N')"
      ],
      "metadata": {
        "id": "qIzSXkPeKvDO"
      },
      "execution_count": null,
      "outputs": []
    },
    {
      "cell_type": "code",
      "source": [
        "X_train, X_valid, y_train_tf, y_valid_tf = spliting_data(df,'input_ids_gpt2','attention_masks_gpt2', 'T-F')"
      ],
      "metadata": {
        "id": "3Xq6rL6aKvKp"
      },
      "execution_count": null,
      "outputs": []
    },
    {
      "cell_type": "code",
      "source": [
        "X_train, X_valid, y_train_jp, y_valid_jp = spliting_data(df,'input_ids_gpt2','attention_masks_gpt2', 'J-P')"
      ],
      "metadata": {
        "id": "AEa44rrLKvR2"
      },
      "execution_count": null,
      "outputs": []
    },
    {
      "cell_type": "code",
      "execution_count": null,
      "metadata": {
        "id": "qfMqfwSv1afk"
      },
      "outputs": [],
      "source": [
        "X_test = df_test[['input_ids_gpt2','attention_masks_gpt2']]\n",
        "y_test_ie= df_test[\"I-E\"]\n",
        "y_test_sn= df_test[\"S-N\"]\n",
        "y_test_tf= df_test[\"T-F\"]\n",
        "y_test_jp= df_test[\"J-P\"]"
      ]
    },
    {
      "cell_type": "markdown",
      "metadata": {
        "id": "k5GaqZE5JyY6"
      },
      "source": [
        "## One Hot Encoder"
      ]
    },
    {
      "cell_type": "code",
      "execution_count": null,
      "metadata": {
        "id": "WZgCElnYJ0t8"
      },
      "outputs": [],
      "source": [
        "y_train_hot_ie = y_train_ie.copy()\n",
        "y_valid_hot_ie = y_valid_ie.copy()\n",
        "y_test_hot_ie = y_test_ie.copy()\n",
        "\n",
        "y_train_hot_sn = y_train_sn.copy()\n",
        "y_valid_hot_sn = y_valid_sn.copy()\n",
        "y_test_hot_sn = y_test_sn.copy()\n",
        "\n",
        "y_train_hot_tf = y_train_tf.copy()\n",
        "y_valid_hot_tf = y_valid_tf.copy()\n",
        "y_test_hot_tf = y_test_tf.copy()\n",
        "\n",
        "y_train_hot_jp = y_train_jp.copy()\n",
        "y_valid_hot_jp = y_valid_jp.copy()\n",
        "y_test_hot_jp = y_test_jp.copy()"
      ]
    },
    {
      "cell_type": "code",
      "execution_count": null,
      "metadata": {
        "id": "yVFy5ExgJ7HL"
      },
      "outputs": [],
      "source": [
        "ohe = preprocessing.OneHotEncoder()\n",
        "y_train_enc_ie = ohe.fit_transform(np.array(y_train_ie).reshape(-1, 1)).toarray()\n",
        "y_valid_enc_ie = ohe.fit_transform(np.array(y_valid_ie).reshape(-1, 1)).toarray()\n",
        "y_test_enc_ie = ohe.fit_transform(np.array(y_test_ie).reshape(-1, 1)).toarray()\n",
        "\n",
        "y_train_enc_sn = ohe.fit_transform(np.array(y_train_sn).reshape(-1, 1)).toarray()\n",
        "y_valid_enc_sn = ohe.fit_transform(np.array(y_valid_sn).reshape(-1, 1)).toarray()\n",
        "y_test_enc_sn = ohe.fit_transform(np.array(y_test_sn).reshape(-1, 1)).toarray()\n",
        "\n",
        "y_train_enc_tf = ohe.fit_transform(np.array(y_train_tf).reshape(-1, 1)).toarray()\n",
        "y_valid_enc_tf = ohe.fit_transform(np.array(y_valid_tf).reshape(-1, 1)).toarray()\n",
        "y_test_enc_tf = ohe.fit_transform(np.array(y_test_tf).reshape(-1, 1)).toarray()\n",
        "\n",
        "y_train_enc_jp = ohe.fit_transform(np.array(y_train_jp).reshape(-1, 1)).toarray()\n",
        "y_valid_enc_jp = ohe.fit_transform(np.array(y_valid_jp).reshape(-1, 1)).toarray()\n",
        "y_test_enc_jp = ohe.fit_transform(np.array(y_test_jp).reshape(-1, 1)).toarray()"
      ]
    },
    {
      "cell_type": "code",
      "execution_count": null,
      "metadata": {
        "id": "v5vSeRHPvmGQ"
      },
      "outputs": [],
      "source": [
        "train_input_ids_ragged = tf.ragged.constant(X_train['input_ids_gpt2'].tolist())\n",
        "train_attention_mask_ragged = tf.ragged.constant(X_train['attention_masks_gpt2'].tolist())\n",
        "\n",
        "val_input_ids_ragged = tf.ragged.constant(X_valid['input_ids_gpt2'].tolist())\n",
        "val_attention_mask_ragged = tf.ragged.constant(X_valid['attention_masks_gpt2'].tolist())\n",
        "\n",
        "test_input_ids_ragged = tf.ragged.constant(X_test['input_ids_gpt2'].tolist())\n",
        "test_attention_mask_ragged = tf.ragged.constant(X_test['attention_masks_gpt2'].tolist())"
      ]
    },
    {
      "cell_type": "code",
      "execution_count": null,
      "metadata": {
        "id": "JQJaclAbkdVa"
      },
      "outputs": [],
      "source": [
        "# convert the ragged tensors to dense tensors\n",
        "train_input_ids = train_input_ids_ragged.to_tensor()\n",
        "train_attention_mask = train_attention_mask_ragged.to_tensor()\n",
        "\n",
        "val_input_ids = val_input_ids_ragged.to_tensor()\n",
        "val_attention_mask = val_attention_mask_ragged.to_tensor()\n",
        "\n",
        "test_input_ids = test_input_ids_ragged.to_tensor()\n",
        "test_atention_mask = test_attention_mask_ragged.to_tensor()"
      ]
    },
    {
      "cell_type": "markdown",
      "metadata": {
        "id": "KBbXWxxPKqqv"
      },
      "source": [
        "# GPT2"
      ]
    },
    {
      "cell_type": "markdown",
      "metadata": {
        "id": "hH_FBSbPeP89"
      },
      "source": [
        "# V1"
      ]
    },
    {
      "cell_type": "code",
      "execution_count": null,
      "metadata": {
        "colab": {
          "base_uri": "https://localhost:8080/",
          "height": 138,
          "referenced_widgets": [
            "e45dc1d947a74f12ad58449b1fcad5a8",
            "a83bdc8558e848e5bf329491bbfef5f4",
            "68a8dee9012e47e3892d3c5b90d440c2",
            "6a7892857d694814b34662c08afaa1d9",
            "6286cb2667ce4dc78c4773c5b6a174d3",
            "5828db0558f84e21aeb88b0f552a5c8d",
            "c2bb5117c395422c9b1b8d208480ad69",
            "bcff794e49f5411c91923fb072dad035",
            "8d3775fa4d474ff69a8ce697eaae6de9",
            "e060052136c548a8831732ebe85656ab",
            "1849d666f4ad4849ab1acd708d95ea12"
          ]
        },
        "id": "k2ijeqlSgALa",
        "outputId": "12cfff48-aea0-43ec-a039-7d7e2ea25a08"
      },
      "outputs": [
        {
          "output_type": "display_data",
          "data": {
            "text/plain": [
              "Downloading tf_model.h5:   0%|          | 0.00/498M [00:00<?, ?B/s]"
            ],
            "application/vnd.jupyter.widget-view+json": {
              "version_major": 2,
              "version_minor": 0,
              "model_id": "e45dc1d947a74f12ad58449b1fcad5a8"
            }
          },
          "metadata": {}
        },
        {
          "output_type": "stream",
          "name": "stderr",
          "text": [
            "All model checkpoint layers were used when initializing TFGPT2Model.\n",
            "\n",
            "All the layers of TFGPT2Model were initialized from the model checkpoint at gpt2.\n",
            "If your task is similar to the task the model of the checkpoint was trained on, you can already use TFGPT2Model for predictions without further training.\n"
          ]
        }
      ],
      "source": [
        "gpt2_model = TFGPT2Model.from_pretrained('gpt2', output_hidden_states=True)"
      ]
    },
    {
      "cell_type": "code",
      "execution_count": null,
      "metadata": {
        "id": "dShW4gm1Zhkr"
      },
      "outputs": [],
      "source": [
        "MAX_LEN=128"
      ]
    },
    {
      "cell_type": "code",
      "execution_count": null,
      "metadata": {
        "id": "-v-zIj7Pf6ZD"
      },
      "outputs": [],
      "source": [
        "def create_model(gpt2_model, max_len=MAX_LEN): \n",
        "  #Define the input layers\n",
        "  input_ids = tf.keras.layers.Input(shape=(MAX_LEN,), dtype=tf.int32)\n",
        "  attention_mask = tf.keras.layers.Input(shape=(MAX_LEN,), dtype=tf.int32)\n",
        "\n",
        "  # Pass the inputs through the GPT-2 model\n",
        "  outputs = gpt2_model({'input_ids': input_ids, 'attention_mask': attention_mask})\n",
        "\n",
        "  # Get the last hidden state output from the GPT-2 model\n",
        "  last_hidden_state = outputs[0]\n",
        "\n",
        "  # Add a dense layer for classification\n",
        "  dense_layer = tf.keras.layers.Dense(1, activation='sigmoid')(last_hidden_state[:, -1, :])\n",
        "\n",
        "  # Define the model\n",
        "  model = tf.keras.Model(inputs=[input_ids, attention_mask], outputs=dense_layer)\n",
        "\n",
        "  # Compile the model\n",
        "  model.compile(optimizer='adam', loss='binary_crossentropy', metrics=['accuracy'])\n",
        "  return model "
      ]
    },
    {
      "cell_type": "code",
      "execution_count": null,
      "metadata": {
        "id": "ZZnWpqpGLOZ4"
      },
      "outputs": [],
      "source": [
        "model = create_model(gpt2_model, MAX_LEN)"
      ]
    },
    {
      "cell_type": "code",
      "execution_count": null,
      "metadata": {
        "colab": {
          "base_uri": "https://localhost:8080/"
        },
        "id": "ynprVTgMlE91",
        "outputId": "6587db78-ef47-4b8f-d3bc-d73c70ce2103"
      },
      "outputs": [
        {
          "output_type": "stream",
          "name": "stdout",
          "text": [
            "Model: \"model\"\n",
            "__________________________________________________________________________________________________\n",
            " Layer (type)                   Output Shape         Param #     Connected to                     \n",
            "==================================================================================================\n",
            " input_2 (InputLayer)           [(None, 128)]        0           []                               \n",
            "                                                                                                  \n",
            " input_1 (InputLayer)           [(None, 128)]        0           []                               \n",
            "                                                                                                  \n",
            " tfgpt2_model (TFGPT2Model)     TFBaseModelOutputWi  124439808   ['input_2[0][0]',                \n",
            "                                thPastAndCrossAtten               'input_1[0][0]']                \n",
            "                                tions(last_hidden_s                                               \n",
            "                                tate=(None, 128, 76                                               \n",
            "                                8),                                                               \n",
            "                                 past_key_values=((                                               \n",
            "                                2, None, 12, 128, 6                                               \n",
            "                                4),                                                               \n",
            "                                 (2, None, 12, 128,                                               \n",
            "                                 64),                                                             \n",
            "                                 (2, None, 12, 128,                                               \n",
            "                                 64),                                                             \n",
            "                                 (2, None, 12, 128,                                               \n",
            "                                 64),                                                             \n",
            "                                 (2, None, 12, 128,                                               \n",
            "                                 64),                                                             \n",
            "                                 (2, None, 12, 128,                                               \n",
            "                                 64),                                                             \n",
            "                                 (2, None, 12, 128,                                               \n",
            "                                 64),                                                             \n",
            "                                 (2, None, 12, 128,                                               \n",
            "                                 64),                                                             \n",
            "                                 (2, None, 12, 128,                                               \n",
            "                                 64),                                                             \n",
            "                                 (2, None, 12, 128,                                               \n",
            "                                 64),                                                             \n",
            "                                 (2, None, 12, 128,                                               \n",
            "                                 64),                                                             \n",
            "                                 (2, None, 12, 128,                                               \n",
            "                                 64)),                                                            \n",
            "                                 hidden_states=((No                                               \n",
            "                                ne, 128, 768),                                                    \n",
            "                                 (None, 128, 768),                                                \n",
            "                                 (None, 128, 768),                                                \n",
            "                                 (None, 128, 768),                                                \n",
            "                                 (None, 128, 768),                                                \n",
            "                                 (None, 128, 768),                                                \n",
            "                                 (None, 128, 768),                                                \n",
            "                                 (None, 128, 768),                                                \n",
            "                                 (None, 128, 768),                                                \n",
            "                                 (None, 128, 768),                                                \n",
            "                                 (None, 128, 768),                                                \n",
            "                                 (None, 128, 768),                                                \n",
            "                                 (None, 128, 768)),                                               \n",
            "                                 attentions=None, c                                               \n",
            "                                ross_attentions=Non                                               \n",
            "                                e)                                                                \n",
            "                                                                                                  \n",
            " tf.__operators__.getitem (Slic  (None, 768)         0           ['tfgpt2_model[0][13]']          \n",
            " ingOpLambda)                                                                                     \n",
            "                                                                                                  \n",
            " dense (Dense)                  (None, 1)            769         ['tf.__operators__.getitem[0][0]'\n",
            "                                                                 ]                                \n",
            "                                                                                                  \n",
            "==================================================================================================\n",
            "Total params: 124,440,577\n",
            "Trainable params: 124,440,577\n",
            "Non-trainable params: 0\n",
            "__________________________________________________________________________________________________\n"
          ]
        }
      ],
      "source": [
        "model.summary()"
      ]
    },
    {
      "cell_type": "code",
      "execution_count": null,
      "metadata": {
        "colab": {
          "base_uri": "https://localhost:8080/"
        },
        "id": "GabEjina57K6",
        "outputId": "8f282f68-6324-4a16-a373-131ad5dfb60c"
      },
      "outputs": [
        {
          "output_type": "stream",
          "name": "stdout",
          "text": [
            "Epoch 1/5\n",
            "5/5 [==============================] - 55s 3s/step - loss: 2.3012 - accuracy: 0.4667 - val_loss: 0.9389 - val_accuracy: 0.4667\n",
            "Epoch 2/5\n",
            "5/5 [==============================] - 4s 902ms/step - loss: 0.7568 - accuracy: 0.5185 - val_loss: 0.7353 - val_accuracy: 0.3333\n",
            "Epoch 3/5\n",
            "5/5 [==============================] - 5s 972ms/step - loss: 0.7079 - accuracy: 0.5185 - val_loss: 0.7209 - val_accuracy: 0.4667\n",
            "Epoch 4/5\n",
            "5/5 [==============================] - 7s 2s/step - loss: 0.6645 - accuracy: 0.5630 - val_loss: 0.7244 - val_accuracy: 0.4000\n",
            "Epoch 5/5\n",
            "5/5 [==============================] - 4s 786ms/step - loss: 0.6600 - accuracy: 0.5926 - val_loss: 0.7532 - val_accuracy: 0.4667\n"
          ]
        }
      ],
      "source": [
        " history_gpt2_ie = model.fit(\n",
        "    [train_input_ids, train_attention_mask], y_train_ie, \n",
        "\n",
        "    validation_data=([val_input_ids, val_attention_mask], y_valid_ie),\n",
        "\n",
        "    epochs=5, batch_size=32)"
      ]
    },
    {
      "cell_type": "code",
      "execution_count": null,
      "metadata": {
        "id": "5zSUYji89ghp"
      },
      "outputs": [],
      "source": [
        "y_pred_ie = model.predict([test_input_ids, test_atention_mask])\n",
        "predictions_ie = np.round(y_pred_ie).astype(int)"
      ]
    },
    {
      "cell_type": "code",
      "execution_count": 52,
      "metadata": {
        "id": "iUcCv3PW9ziL",
        "colab": {
          "base_uri": "https://localhost:8080/"
        },
        "outputId": "959394e2-bb0a-4275-a255-9761cceed5ee"
      },
      "outputs": [
        {
          "output_type": "stream",
          "name": "stdout",
          "text": [
            "\tClassification Report for GPT2 For I-E:\n",
            "\n",
            "               precision    recall  f1-score   support\n",
            "\n",
            "           0       0.83      0.80      0.81        74\n",
            "           1       0.81      0.84      0.83        76\n",
            "\n",
            "    accuracy                           0.82       150\n",
            "   macro avg       0.82      0.82      0.82       150\n",
            "weighted avg       0.82      0.82      0.82       150\n",
            "\n"
          ]
        }
      ],
      "source": [
        "print('\\tClassification Report for GPT2 For I-E:\\n\\n',classification_report(y_test_ie,predictions_ie, target_names=['0', '1']))"
      ]
    },
    {
      "cell_type": "code",
      "source": [
        "cm = confusion_matrix(y_test_ie, predictions_ie)\n",
        "sns.heatmap(cm, annot=True, cmap='Blues', fmt='g')\n",
        "plt.xlabel('Predicted')\n",
        "plt.ylabel('Actual')\n",
        "plt.show()"
      ],
      "metadata": {
        "id": "cfAeyLUwS184",
        "colab": {
          "base_uri": "https://localhost:8080/",
          "height": 449
        },
        "outputId": "e263fefe-af8e-43ed-d446-edc54c2ee9a5"
      },
      "execution_count": 54,
      "outputs": [
        {
          "output_type": "display_data",
          "data": {
            "text/plain": [
              "<Figure size 640x480 with 2 Axes>"
            ],
            "image/png": "[encoded data removed]"
          },
          "metadata": {}
        }
      ]
    },
    {
      "cell_type": "code",
      "execution_count": null,
      "metadata": {
        "id": "n-V7ajaFk1GW",
        "colab": {
          "base_uri": "https://localhost:8080/"
        },
        "outputId": "73fd5198-1556-4a8b-9cc6-af1c6a3e26aa"
      },
      "outputs": [
        {
          "output_type": "stream",
          "name": "stdout",
          "text": [
            "Epoch 1/5\n",
            "5/5 [==============================] - 18s 2s/step - loss: 0.7245 - accuracy: 0.5333 - val_loss: 0.7366 - val_accuracy: 0.2000\n",
            "Epoch 2/5\n",
            "5/5 [==============================] - 4s 754ms/step - loss: 0.7269 - accuracy: 0.5407 - val_loss: 0.5924 - val_accuracy: 0.7333\n",
            "Epoch 3/5\n",
            "5/5 [==============================] - 4s 757ms/step - loss: 0.6877 - accuracy: 0.5926 - val_loss: 0.6947 - val_accuracy: 0.5333\n",
            "Epoch 4/5\n",
            "5/5 [==============================] - 4s 800ms/step - loss: 0.6311 - accuracy: 0.6519 - val_loss: 0.6660 - val_accuracy: 0.4000\n",
            "Epoch 5/5\n",
            "5/5 [==============================] - 4s 769ms/step - loss: 0.6175 - accuracy: 0.6741 - val_loss: 0.7689 - val_accuracy: 0.0667\n"
          ]
        }
      ],
      "source": [
        "history_gpt2_sn = model.fit(\n",
        "    [train_input_ids, train_attention_mask], y_train_sn, \n",
        "\n",
        "    validation_data=([val_input_ids, val_attention_mask], y_valid_sn),\n",
        "\n",
        "    epochs=5, batch_size=32)"
      ]
    },
    {
      "cell_type": "code",
      "source": [
        "y_pred_sn = model.predict([test_input_ids, test_atention_mask])\n",
        "predictions_sn = np.round(y_pred_sn).astype(int)"
      ],
      "metadata": {
        "id": "XQrT7HGgOfJO",
        "colab": {
          "base_uri": "https://localhost:8080/"
        },
        "outputId": "33ca94d4-13da-4275-aa89-9a9553f90311"
      },
      "execution_count": null,
      "outputs": [
        {
          "output_type": "stream",
          "name": "stdout",
          "text": [
            "5/5 [==============================] - 1s 295ms/step\n"
          ]
        }
      ]
    },
    {
      "cell_type": "code",
      "source": [
        "print('\\tClassification Report for GPT2 FOR S-N :\\n\\n',classification_report(y_test_sn,predictions_sn, target_names=['0', '1']))"
      ],
      "metadata": {
        "id": "ZQ0S1Jc_OfNj",
        "colab": {
          "base_uri": "https://localhost:8080/"
        },
        "outputId": "eb85ab2b-e9cd-4c9a-a05a-8da871f7b8c9"
      },
      "execution_count": null,
      "outputs": [
        {
          "output_type": "stream",
          "name": "stdout",
          "text": [
            "\tClassification Report for GPT2 FOR S-N :\n",
            "\n",
            "               precision    recall  f1-score   support\n",
            "\n",
            "           0       0.79      0.54      0.64        63\n",
            "           1       0.73      0.90      0.80        87\n",
            "\n",
            "    accuracy                           0.75       150\n",
            "   macro avg       0.76      0.72      0.72       150\n",
            "weighted avg       0.75      0.75      0.74       150\n",
            "\n"
          ]
        }
      ]
    },
    {
      "cell_type": "code",
      "source": [
        "cm = confusion_matrix(y_test_sn, predictions_sn)\n",
        "sns.heatmap(cm, annot=True, cmap='Blues', fmt='g')\n",
        "plt.xlabel('Predicted')\n",
        "plt.ylabel('Actual')\n",
        "plt.show()"
      ],
      "metadata": {
        "colab": {
          "base_uri": "https://localhost:8080/",
          "height": 449
        },
        "id": "hBUjAxopTNVA",
        "outputId": "8f076ea1-d748-4dff-e31b-c832c990fe2b"
      },
      "execution_count": 55,
      "outputs": [
        {
          "output_type": "display_data",
          "data": {
            "text/plain": [
              "<Figure size 640x480 with 2 Axes>"
            ],
            "image/png": "[encoded data removed]"
          },
          "metadata": {}
        }
      ]
    },
    {
      "cell_type": "code",
      "source": [
        "history_gpt2_tf = model.fit(\n",
        "    [train_input_ids, train_attention_mask], y_train_tf, \n",
        "\n",
        "    validation_data=([val_input_ids, val_attention_mask], y_valid_tf),\n",
        "\n",
        "    epochs=5, batch_size=32)"
      ],
      "metadata": {
        "id": "nXL4PextOfPz",
        "colab": {
          "base_uri": "https://localhost:8080/"
        },
        "outputId": "0dfa814f-bcaa-49cf-ccdd-6eaeb95bbf58"
      },
      "execution_count": null,
      "outputs": [
        {
          "output_type": "stream",
          "name": "stdout",
          "text": [
            "Epoch 1/5\n",
            "5/5 [==============================] - 5s 883ms/step - loss: 0.7557 - accuracy: 0.4667 - val_loss: 0.6868 - val_accuracy: 0.8000\n",
            "Epoch 2/5\n",
            "5/5 [==============================] - 5s 927ms/step - loss: 0.5274 - accuracy: 0.8593 - val_loss: 0.6927 - val_accuracy: 0.8000\n",
            "Epoch 3/5\n",
            "5/5 [==============================] - 8s 2s/step - loss: 0.3783 - accuracy: 0.8593 - val_loss: 0.5558 - val_accuracy: 0.8000\n",
            "Epoch 4/5\n",
            "5/5 [==============================] - 6s 1s/step - loss: 0.3144 - accuracy: 0.8593 - val_loss: 0.5821 - val_accuracy: 0.8000\n",
            "Epoch 5/5\n",
            "5/5 [==============================] - 7s 1s/step - loss: 0.2508 - accuracy: 0.8963 - val_loss: 0.6966 - val_accuracy: 0.8000\n"
          ]
        }
      ]
    },
    {
      "cell_type": "code",
      "source": [
        "y_pred_tf = model.predict([test_input_ids, test_atention_mask])\n",
        "predictions_tf = np.round(y_pred_tf).astype(int)"
      ],
      "metadata": {
        "id": "Ma_xKpvVOfRm",
        "colab": {
          "base_uri": "https://localhost:8080/"
        },
        "outputId": "a4f6ba87-18c0-4480-9050-dd8fb24038c7"
      },
      "execution_count": null,
      "outputs": [
        {
          "output_type": "stream",
          "name": "stdout",
          "text": [
            "5/5 [==============================] - 1s 309ms/step\n"
          ]
        }
      ]
    },
    {
      "cell_type": "code",
      "source": [
        "print('\\tClassification Report for GPT2 FOR T-F :\\n\\n',classification_report(y_test_tf,predictions_tf, target_names=['0', '1']))"
      ],
      "metadata": {
        "id": "ndeBR13AOfTq",
        "colab": {
          "base_uri": "https://localhost:8080/"
        },
        "outputId": "35c97478-9e03-4752-8b81-a57de9d58da1"
      },
      "execution_count": null,
      "outputs": [
        {
          "output_type": "stream",
          "name": "stdout",
          "text": [
            "\tClassification Report for GPT2 FOR T-F :\n",
            "\n",
            "               precision    recall  f1-score   support\n",
            "\n",
            "           0       0.92      1.00      0.96       128\n",
            "           1       1.00      0.50      0.67        22\n",
            "\n",
            "    accuracy                           0.93       150\n",
            "   macro avg       0.96      0.75      0.81       150\n",
            "weighted avg       0.93      0.93      0.92       150\n",
            "\n"
          ]
        }
      ]
    },
    {
      "cell_type": "code",
      "source": [
        "cm = confusion_matrix(y_test_tf, predictions_tf)\n",
        "sns.heatmap(cm, annot=True, cmap='Blues', fmt='g')\n",
        "plt.xlabel('Predicted')\n",
        "plt.ylabel('Actual')\n",
        "plt.show()"
      ],
      "metadata": {
        "colab": {
          "base_uri": "https://localhost:8080/",
          "height": 449
        },
        "id": "CTl-7IfVTU3f",
        "outputId": "3f348a85-cbf8-4733-f3d9-e2d5f2c44d8a"
      },
      "execution_count": 56,
      "outputs": [
        {
          "output_type": "display_data",
          "data": {
            "text/plain": [
              "<Figure size 640x480 with 2 Axes>"
            ],
            "image/png": "[encoded data removed]"
          },
          "metadata": {}
        }
      ]
    },
    {
      "cell_type": "code",
      "source": [
        "history_gpt2_jp = model.fit(\n",
        "    [train_input_ids, train_attention_mask], y_train_jp, \n",
        "\n",
        "    validation_data=([val_input_ids, val_attention_mask], y_valid_jp),\n",
        "\n",
        "    epochs=5, batch_size=32)"
      ],
      "metadata": {
        "id": "8Uncn5pOOfWP",
        "colab": {
          "base_uri": "https://localhost:8080/"
        },
        "outputId": "e20435ac-1c2b-48da-df82-b04b94131c37"
      },
      "execution_count": 49,
      "outputs": [
        {
          "metadata": {
            "tags": null
          },
          "name": "stdout",
          "output_type": "stream",
          "text": [
            "Epoch 1/5\n",
            "5/5 [==============================] - 5s 1s/step - loss: 1.1933 - accuracy: 0.5852 - val_loss: 0.7064 - val_accuracy: 0.5333\n",
            "Epoch 2/5\n",
            "5/5 [==============================] - 4s 817ms/step - loss: 0.6834 - accuracy: 0.5704 - val_loss: 0.6666 - val_accuracy: 0.6667\n",
            "Epoch 3/5\n",
            "5/5 [==============================] - 5s 912ms/step - loss: 0.6766 - accuracy: 0.5852 - val_loss: 0.6653 - val_accuracy: 0.6667\n",
            "Epoch 4/5\n",
            "5/5 [==============================] - 6s 1s/step - loss: 0.6239 - accuracy: 0.6370 - val_loss: 0.6428 - val_accuracy: 0.6667\n",
            "Epoch 5/5\n",
            "5/5 [==============================] - 6s 1s/step - loss: 0.6037 - accuracy: 0.6370 - val_loss: 0.6138 - val_accuracy: 0.6000\n"
          ]
        }
      ]
    },
    {
      "cell_type": "code",
      "source": [
        "y_pred_jp = model.predict([test_input_ids, test_atention_mask])\n",
        "predictions_jp = np.round(y_pred_jp).astype(int)"
      ],
      "metadata": {
        "id": "TjQNAjtfQDMx",
        "colab": {
          "base_uri": "https://localhost:8080/"
        },
        "outputId": "46882b35-2bdb-46f3-a5bc-2e707962b88a"
      },
      "execution_count": 50,
      "outputs": [
        {
          "output_type": "stream",
          "name": "stdout",
          "text": [
            "5/5 [==============================] - 1s 307ms/step\n"
          ]
        }
      ]
    },
    {
      "cell_type": "code",
      "source": [
        "print('\\tClassification Report for GPT2 FOR J-P :\\n\\n',classification_report(y_test_jp,predictions_jp, target_names=['0', '1']))"
      ],
      "metadata": {
        "id": "Im48VMiTQDVb",
        "colab": {
          "base_uri": "https://localhost:8080/"
        },
        "outputId": "21d0498a-27f7-41e1-e139-438561fad721"
      },
      "execution_count": 51,
      "outputs": [
        {
          "output_type": "stream",
          "name": "stdout",
          "text": [
            "\tClassification Report for GPT2 FOR J-P :\n",
            "\n",
            "               precision    recall  f1-score   support\n",
            "\n",
            "           0       0.81      0.79      0.80        96\n",
            "           1       0.64      0.67      0.65        54\n",
            "\n",
            "    accuracy                           0.75       150\n",
            "   macro avg       0.73      0.73      0.73       150\n",
            "weighted avg       0.75      0.75      0.75       150\n",
            "\n"
          ]
        }
      ]
    },
    {
      "cell_type": "code",
      "source": [
        "cm = confusion_matrix(y_test_jp, predictions_jp)\n",
        "sns.heatmap(cm, annot=True, cmap='Blues', fmt='g')\n",
        "plt.xlabel('Predicted')\n",
        "plt.ylabel('Actual')\n",
        "plt.show()"
      ],
      "metadata": {
        "id": "JaTs3jgFSuXP",
        "colab": {
          "base_uri": "https://localhost:8080/",
          "height": 449
        },
        "outputId": "58406295-1fe9-4c2a-c410-48cff0702ed5"
      },
      "execution_count": 57,
      "outputs": [
        {
          "output_type": "display_data",
          "data": {
            "text/plain": [
              "<Figure size 640x480 with 2 Axes>"
            ],
            "image/png": "[encoded data removed]"
          },
          "metadata": {}
        }
      ]
    },
    {
      "cell_type": "code",
      "source": [],
      "metadata": {
        "id": "aNSubH_ZTZrA"
      },
      "execution_count": null,
      "outputs": []
    }
  ],
  "metadata": {
    "accelerator": "GPU",
    "colab": {
      "provenance": [],
      "include_colab_link": true
    },
    "gpuClass": "standard",
    "kernelspec": {
      "display_name": "Python 3",
      "name": "python3"
    },
    "language_info": {
      "name": "python"
    },
    "widgets": {
      "application/vnd.jupyter.widget-state+json": {
        "400b1f2db16f4ee5842a71bd22dbd249": {
          "model_module": "@jupyter-widgets/controls",
          "model_name": "HBoxModel",
          "model_module_version": "1.5.0",
          "state": {
            "_dom_classes": [],
            "_model_module": "@jupyter-widgets/controls",
            "_model_module_version": "1.5.0",
            "_model_name": "HBoxModel",
            "_view_count": null,
            "_view_module": "@jupyter-widgets/controls",
            "_view_module_version": "1.5.0",
            "_view_name": "HBoxView",
            "box_style": "",
            "children": [
              "IPY_MODEL_854d35d776884356a99c08a5420ce749",
              "IPY_MODEL_2d0b5d49ff1a48e390f4b3d42fc5729b",
              "IPY_MODEL_b721d998f76c440db78e407db888d68f"
            ],
            "layout": "IPY_MODEL_46c79b85a62a40328223892503121895"
          }
        },
        "854d35d776884356a99c08a5420ce749": {
          "model_module": "@jupyter-widgets/controls",
          "model_name": "HTMLModel",
          "model_module_version": "1.5.0",
          "state": {
            "_dom_classes": [],
            "_model_module": "@jupyter-widgets/controls",
            "_model_module_version": "1.5.0",
            "_model_name": "HTMLModel",
            "_view_count": null,
            "_view_module": "@jupyter-widgets/controls",
            "_view_module_version": "1.5.0",
            "_view_name": "HTMLView",
            "description": "",
            "description_tooltip": null,
            "layout": "IPY_MODEL_eec5630ec32a4655b07dc4e4e433f4b8",
            "placeholder": "​",
            "style": "IPY_MODEL_a33da43ffa964786b7cd3716fa34981a",
            "value": "Downloading (…)olve/main/vocab.json: 100%"
          }
        },
        "2d0b5d49ff1a48e390f4b3d42fc5729b": {
          "model_module": "@jupyter-widgets/controls",
          "model_name": "FloatProgressModel",
          "model_module_version": "1.5.0",
          "state": {
            "_dom_classes": [],
            "_model_module": "@jupyter-widgets/controls",
            "_model_module_version": "1.5.0",
            "_model_name": "FloatProgressModel",
            "_view_count": null,
            "_view_module": "@jupyter-widgets/controls",
            "_view_module_version": "1.5.0",
            "_view_name": "ProgressView",
            "bar_style": "success",
            "description": "",
            "description_tooltip": null,
            "layout": "IPY_MODEL_dcb06dda05fa40bb90895a347b9b97fb",
            "max": 1042301,
            "min": 0,
            "orientation": "horizontal",
            "style": "IPY_MODEL_79dd79d73e1147c1913281b996a5c19f",
            "value": 1042301
          }
        },
        "b721d998f76c440db78e407db888d68f": {
          "model_module": "@jupyter-widgets/controls",
          "model_name": "HTMLModel",
          "model_module_version": "1.5.0",
          "state": {
            "_dom_classes": [],
            "_model_module": "@jupyter-widgets/controls",
            "_model_module_version": "1.5.0",
            "_model_name": "HTMLModel",
            "_view_count": null,
            "_view_module": "@jupyter-widgets/controls",
            "_view_module_version": "1.5.0",
            "_view_name": "HTMLView",
            "description": "",
            "description_tooltip": null,
            "layout": "IPY_MODEL_fde510c45c18400e9733f5df84b2ed2c",
            "placeholder": "​",
            "style": "IPY_MODEL_daca9616f1ab4beb97341223b12480ef",
            "value": " 1.04M/1.04M [00:00&lt;00:00, 7.24MB/s]"
          }
        },
        "46c79b85a62a40328223892503121895": {
          "model_module": "@jupyter-widgets/base",
          "model_name": "LayoutModel",
          "model_module_version": "1.2.0",
          "state": {
            "_model_module": "@jupyter-widgets/base",
            "_model_module_version": "1.2.0",
            "_model_name": "LayoutModel",
            "_view_count": null,
            "_view_module": "@jupyter-widgets/base",
            "_view_module_version": "1.2.0",
            "_view_name": "LayoutView",
            "align_content": null,
            "align_items": null,
            "align_self": null,
            "border": null,
            "bottom": null,
            "display": null,
            "flex": null,
            "flex_flow": null,
            "grid_area": null,
            "grid_auto_columns": null,
            "grid_auto_flow": null,
            "grid_auto_rows": null,
            "grid_column": null,
            "grid_gap": null,
            "grid_row": null,
            "grid_template_areas": null,
            "grid_template_columns": null,
            "grid_template_rows": null,
            "height": null,
            "justify_content": null,
            "justify_items": null,
            "left": null,
            "margin": null,
            "max_height": null,
            "max_width": null,
            "min_height": null,
            "min_width": null,
            "object_fit": null,
            "object_position": null,
            "order": null,
            "overflow": null,
            "overflow_x": null,
            "overflow_y": null,
            "padding": null,
            "right": null,
            "top": null,
            "visibility": null,
            "width": null
          }
        },
        "eec5630ec32a4655b07dc4e4e433f4b8": {
          "model_module": "@jupyter-widgets/base",
          "model_name": "LayoutModel",
          "model_module_version": "1.2.0",
          "state": {
            "_model_module": "@jupyter-widgets/base",
            "_model_module_version": "1.2.0",
            "_model_name": "LayoutModel",
            "_view_count": null,
            "_view_module": "@jupyter-widgets/base",
            "_view_module_version": "1.2.0",
            "_view_name": "LayoutView",
            "align_content": null,
            "align_items": null,
            "align_self": null,
            "border": null,
            "bottom": null,
            "display": null,
            "flex": null,
            "flex_flow": null,
            "grid_area": null,
            "grid_auto_columns": null,
            "grid_auto_flow": null,
            "grid_auto_rows": null,
            "grid_column": null,
            "grid_gap": null,
            "grid_row": null,
            "grid_template_areas": null,
            "grid_template_columns": null,
            "grid_template_rows": null,
            "height": null,
            "justify_content": null,
            "justify_items": null,
            "left": null,
            "margin": null,
            "max_height": null,
            "max_width": null,
            "min_height": null,
            "min_width": null,
            "object_fit": null,
            "object_position": null,
            "order": null,
            "overflow": null,
            "overflow_x": null,
            "overflow_y": null,
            "padding": null,
            "right": null,
            "top": null,
            "visibility": null,
            "width": null
          }
        },
        "a33da43ffa964786b7cd3716fa34981a": {
          "model_module": "@jupyter-widgets/controls",
          "model_name": "DescriptionStyleModel",
          "model_module_version": "1.5.0",
          "state": {
            "_model_module": "@jupyter-widgets/controls",
            "_model_module_version": "1.5.0",
            "_model_name": "DescriptionStyleModel",
            "_view_count": null,
            "_view_module": "@jupyter-widgets/base",
            "_view_module_version": "1.2.0",
            "_view_name": "StyleView",
            "description_width": ""
          }
        },
        "dcb06dda05fa40bb90895a347b9b97fb": {
          "model_module": "@jupyter-widgets/base",
          "model_name": "LayoutModel",
          "model_module_version": "1.2.0",
          "state": {
            "_model_module": "@jupyter-widgets/base",
            "_model_module_version": "1.2.0",
            "_model_name": "LayoutModel",
            "_view_count": null,
            "_view_module": "@jupyter-widgets/base",
            "_view_module_version": "1.2.0",
            "_view_name": "LayoutView",
            "align_content": null,
            "align_items": null,
            "align_self": null,
            "border": null,
            "bottom": null,
            "display": null,
            "flex": null,
            "flex_flow": null,
            "grid_area": null,
            "grid_auto_columns": null,
            "grid_auto_flow": null,
            "grid_auto_rows": null,
            "grid_column": null,
            "grid_gap": null,
            "grid_row": null,
            "grid_template_areas": null,
            "grid_template_columns": null,
            "grid_template_rows": null,
            "height": null,
            "justify_content": null,
            "justify_items": null,
            "left": null,
            "margin": null,
            "max_height": null,
            "max_width": null,
            "min_height": null,
            "min_width": null,
            "object_fit": null,
            "object_position": null,
            "order": null,
            "overflow": null,
            "overflow_x": null,
            "overflow_y": null,
            "padding": null,
            "right": null,
            "top": null,
            "visibility": null,
            "width": null
          }
        },
        "79dd79d73e1147c1913281b996a5c19f": {
          "model_module": "@jupyter-widgets/controls",
          "model_name": "ProgressStyleModel",
          "model_module_version": "1.5.0",
          "state": {
            "_model_module": "@jupyter-widgets/controls",
            "_model_module_version": "1.5.0",
            "_model_name": "ProgressStyleModel",
            "_view_count": null,
            "_view_module": "@jupyter-widgets/base",
            "_view_module_version": "1.2.0",
            "_view_name": "StyleView",
            "bar_color": null,
            "description_width": ""
          }
        },
        "fde510c45c18400e9733f5df84b2ed2c": {
          "model_module": "@jupyter-widgets/base",
          "model_name": "LayoutModel",
          "model_module_version": "1.2.0",
          "state": {
            "_model_module": "@jupyter-widgets/base",
            "_model_module_version": "1.2.0",
            "_model_name": "LayoutModel",
            "_view_count": null,
            "_view_module": "@jupyter-widgets/base",
            "_view_module_version": "1.2.0",
            "_view_name": "LayoutView",
            "align_content": null,
            "align_items": null,
            "align_self": null,
            "border": null,
            "bottom": null,
            "display": null,
            "flex": null,
            "flex_flow": null,
            "grid_area": null,
            "grid_auto_columns": null,
            "grid_auto_flow": null,
            "grid_auto_rows": null,
            "grid_column": null,
            "grid_gap": null,
            "grid_row": null,
            "grid_template_areas": null,
            "grid_template_columns": null,
            "grid_template_rows": null,
            "height": null,
            "justify_content": null,
            "justify_items": null,
            "left": null,
            "margin": null,
            "max_height": null,
            "max_width": null,
            "min_height": null,
            "min_width": null,
            "object_fit": null,
            "object_position": null,
            "order": null,
            "overflow": null,
            "overflow_x": null,
            "overflow_y": null,
            "padding": null,
            "right": null,
            "top": null,
            "visibility": null,
            "width": null
          }
        },
        "daca9616f1ab4beb97341223b12480ef": {
          "model_module": "@jupyter-widgets/controls",
          "model_name": "DescriptionStyleModel",
          "model_module_version": "1.5.0",
          "state": {
            "_model_module": "@jupyter-widgets/controls",
            "_model_module_version": "1.5.0",
            "_model_name": "DescriptionStyleModel",
            "_view_count": null,
            "_view_module": "@jupyter-widgets/base",
            "_view_module_version": "1.2.0",
            "_view_name": "StyleView",
            "description_width": ""
          }
        },
        "3d7db42bddc5480488ab2b4cb8fa89e6": {
          "model_module": "@jupyter-widgets/controls",
          "model_name": "HBoxModel",
          "model_module_version": "1.5.0",
          "state": {
            "_dom_classes": [],
            "_model_module": "@jupyter-widgets/controls",
            "_model_module_version": "1.5.0",
            "_model_name": "HBoxModel",
            "_view_count": null,
            "_view_module": "@jupyter-widgets/controls",
            "_view_module_version": "1.5.0",
            "_view_name": "HBoxView",
            "box_style": "",
            "children": [
              "IPY_MODEL_dcb92dfe43b443288fb69a7729e9255b",
              "IPY_MODEL_c8fccc7b91a9421b86f98a07647aad25",
              "IPY_MODEL_469b39d3ac174dc0834bfc1fea96a2a7"
            ],
            "layout": "IPY_MODEL_779f69d94be14aa8869f40d43d661fea"
          }
        },
        "dcb92dfe43b443288fb69a7729e9255b": {
          "model_module": "@jupyter-widgets/controls",
          "model_name": "HTMLModel",
          "model_module_version": "1.5.0",
          "state": {
            "_dom_classes": [],
            "_model_module": "@jupyter-widgets/controls",
            "_model_module_version": "1.5.0",
            "_model_name": "HTMLModel",
            "_view_count": null,
            "_view_module": "@jupyter-widgets/controls",
            "_view_module_version": "1.5.0",
            "_view_name": "HTMLView",
            "description": "",
            "description_tooltip": null,
            "layout": "IPY_MODEL_a4626d58ae6f408b90f17aaca356686b",
            "placeholder": "​",
            "style": "IPY_MODEL_ff7cdf26d22b47d6b810c21223595182",
            "value": "Downloading (…)olve/main/merges.txt: 100%"
          }
        },
        "c8fccc7b91a9421b86f98a07647aad25": {
          "model_module": "@jupyter-widgets/controls",
          "model_name": "FloatProgressModel",
          "model_module_version": "1.5.0",
          "state": {
            "_dom_classes": [],
            "_model_module": "@jupyter-widgets/controls",
            "_model_module_version": "1.5.0",
            "_model_name": "FloatProgressModel",
            "_view_count": null,
            "_view_module": "@jupyter-widgets/controls",
            "_view_module_version": "1.5.0",
            "_view_name": "ProgressView",
            "bar_style": "success",
            "description": "",
            "description_tooltip": null,
            "layout": "IPY_MODEL_818a776ac0594734a0eef04cfa576a81",
            "max": 456318,
            "min": 0,
            "orientation": "horizontal",
            "style": "IPY_MODEL_ba3168bce1c849dea89101f62932b125",
            "value": 456318
          }
        },
        "469b39d3ac174dc0834bfc1fea96a2a7": {
          "model_module": "@jupyter-widgets/controls",
          "model_name": "HTMLModel",
          "model_module_version": "1.5.0",
          "state": {
            "_dom_classes": [],
            "_model_module": "@jupyter-widgets/controls",
            "_model_module_version": "1.5.0",
            "_model_name": "HTMLModel",
            "_view_count": null,
            "_view_module": "@jupyter-widgets/controls",
            "_view_module_version": "1.5.0",
            "_view_name": "HTMLView",
            "description": "",
            "description_tooltip": null,
            "layout": "IPY_MODEL_ef8fef902a42498985e52ef2f236f024",
            "placeholder": "​",
            "style": "IPY_MODEL_4a25b2130ace4545959e6751078d12c6",
            "value": " 456k/456k [00:00&lt;00:00, 5.11MB/s]"
          }
        },
        "779f69d94be14aa8869f40d43d661fea": {
          "model_module": "@jupyter-widgets/base",
          "model_name": "LayoutModel",
          "model_module_version": "1.2.0",
          "state": {
            "_model_module": "@jupyter-widgets/base",
            "_model_module_version": "1.2.0",
            "_model_name": "LayoutModel",
            "_view_count": null,
            "_view_module": "@jupyter-widgets/base",
            "_view_module_version": "1.2.0",
            "_view_name": "LayoutView",
            "align_content": null,
            "align_items": null,
            "align_self": null,
            "border": null,
            "bottom": null,
            "display": null,
            "flex": null,
            "flex_flow": null,
            "grid_area": null,
            "grid_auto_columns": null,
            "grid_auto_flow": null,
            "grid_auto_rows": null,
            "grid_column": null,
            "grid_gap": null,
            "grid_row": null,
            "grid_template_areas": null,
            "grid_template_columns": null,
            "grid_template_rows": null,
            "height": null,
            "justify_content": null,
            "justify_items": null,
            "left": null,
            "margin": null,
            "max_height": null,
            "max_width": null,
            "min_height": null,
            "min_width": null,
            "object_fit": null,
            "object_position": null,
            "order": null,
            "overflow": null,
            "overflow_x": null,
            "overflow_y": null,
            "padding": null,
            "right": null,
            "top": null,
            "visibility": null,
            "width": null
          }
        },
        "a4626d58ae6f408b90f17aaca356686b": {
          "model_module": "@jupyter-widgets/base",
          "model_name": "LayoutModel",
          "model_module_version": "1.2.0",
          "state": {
            "_model_module": "@jupyter-widgets/base",
            "_model_module_version": "1.2.0",
            "_model_name": "LayoutModel",
            "_view_count": null,
            "_view_module": "@jupyter-widgets/base",
            "_view_module_version": "1.2.0",
            "_view_name": "LayoutView",
            "align_content": null,
            "align_items": null,
            "align_self": null,
            "border": null,
            "bottom": null,
            "display": null,
            "flex": null,
            "flex_flow": null,
            "grid_area": null,
            "grid_auto_columns": null,
            "grid_auto_flow": null,
            "grid_auto_rows": null,
            "grid_column": null,
            "grid_gap": null,
            "grid_row": null,
            "grid_template_areas": null,
            "grid_template_columns": null,
            "grid_template_rows": null,
            "height": null,
            "justify_content": null,
            "justify_items": null,
            "left": null,
            "margin": null,
            "max_height": null,
            "max_width": null,
            "min_height": null,
            "min_width": null,
            "object_fit": null,
            "object_position": null,
            "order": null,
            "overflow": null,
            "overflow_x": null,
            "overflow_y": null,
            "padding": null,
            "right": null,
            "top": null,
            "visibility": null,
            "width": null
          }
        },
        "ff7cdf26d22b47d6b810c21223595182": {
          "model_module": "@jupyter-widgets/controls",
          "model_name": "DescriptionStyleModel",
          "model_module_version": "1.5.0",
          "state": {
            "_model_module": "@jupyter-widgets/controls",
            "_model_module_version": "1.5.0",
            "_model_name": "DescriptionStyleModel",
            "_view_count": null,
            "_view_module": "@jupyter-widgets/base",
            "_view_module_version": "1.2.0",
            "_view_name": "StyleView",
            "description_width": ""
          }
        },
        "818a776ac0594734a0eef04cfa576a81": {
          "model_module": "@jupyter-widgets/base",
          "model_name": "LayoutModel",
          "model_module_version": "1.2.0",
          "state": {
            "_model_module": "@jupyter-widgets/base",
            "_model_module_version": "1.2.0",
            "_model_name": "LayoutModel",
            "_view_count": null,
            "_view_module": "@jupyter-widgets/base",
            "_view_module_version": "1.2.0",
            "_view_name": "LayoutView",
            "align_content": null,
            "align_items": null,
            "align_self": null,
            "border": null,
            "bottom": null,
            "display": null,
            "flex": null,
            "flex_flow": null,
            "grid_area": null,
            "grid_auto_columns": null,
            "grid_auto_flow": null,
            "grid_auto_rows": null,
            "grid_column": null,
            "grid_gap": null,
            "grid_row": null,
            "grid_template_areas": null,
            "grid_template_columns": null,
            "grid_template_rows": null,
            "height": null,
            "justify_content": null,
            "justify_items": null,
            "left": null,
            "margin": null,
            "max_height": null,
            "max_width": null,
            "min_height": null,
            "min_width": null,
            "object_fit": null,
            "object_position": null,
            "order": null,
            "overflow": null,
            "overflow_x": null,
            "overflow_y": null,
            "padding": null,
            "right": null,
            "top": null,
            "visibility": null,
            "width": null
          }
        },
        "ba3168bce1c849dea89101f62932b125": {
          "model_module": "@jupyter-widgets/controls",
          "model_name": "ProgressStyleModel",
          "model_module_version": "1.5.0",
          "state": {
            "_model_module": "@jupyter-widgets/controls",
            "_model_module_version": "1.5.0",
            "_model_name": "ProgressStyleModel",
            "_view_count": null,
            "_view_module": "@jupyter-widgets/base",
            "_view_module_version": "1.2.0",
            "_view_name": "StyleView",
            "bar_color": null,
            "description_width": ""
          }
        },
        "ef8fef902a42498985e52ef2f236f024": {
          "model_module": "@jupyter-widgets/base",
          "model_name": "LayoutModel",
          "model_module_version": "1.2.0",
          "state": {
            "_model_module": "@jupyter-widgets/base",
            "_model_module_version": "1.2.0",
            "_model_name": "LayoutModel",
            "_view_count": null,
            "_view_module": "@jupyter-widgets/base",
            "_view_module_version": "1.2.0",
            "_view_name": "LayoutView",
            "align_content": null,
            "align_items": null,
            "align_self": null,
            "border": null,
            "bottom": null,
            "display": null,
            "flex": null,
            "flex_flow": null,
            "grid_area": null,
            "grid_auto_columns": null,
            "grid_auto_flow": null,
            "grid_auto_rows": null,
            "grid_column": null,
            "grid_gap": null,
            "grid_row": null,
            "grid_template_areas": null,
            "grid_template_columns": null,
            "grid_template_rows": null,
            "height": null,
            "justify_content": null,
            "justify_items": null,
            "left": null,
            "margin": null,
            "max_height": null,
            "max_width": null,
            "min_height": null,
            "min_width": null,
            "object_fit": null,
            "object_position": null,
            "order": null,
            "overflow": null,
            "overflow_x": null,
            "overflow_y": null,
            "padding": null,
            "right": null,
            "top": null,
            "visibility": null,
            "width": null
          }
        },
        "4a25b2130ace4545959e6751078d12c6": {
          "model_module": "@jupyter-widgets/controls",
          "model_name": "DescriptionStyleModel",
          "model_module_version": "1.5.0",
          "state": {
            "_model_module": "@jupyter-widgets/controls",
            "_model_module_version": "1.5.0",
            "_model_name": "DescriptionStyleModel",
            "_view_count": null,
            "_view_module": "@jupyter-widgets/base",
            "_view_module_version": "1.2.0",
            "_view_name": "StyleView",
            "description_width": ""
          }
        },
        "a61bb0165d2f4c00a55a0de130322577": {
          "model_module": "@jupyter-widgets/controls",
          "model_name": "HBoxModel",
          "model_module_version": "1.5.0",
          "state": {
            "_dom_classes": [],
            "_model_module": "@jupyter-widgets/controls",
            "_model_module_version": "1.5.0",
            "_model_name": "HBoxModel",
            "_view_count": null,
            "_view_module": "@jupyter-widgets/controls",
            "_view_module_version": "1.5.0",
            "_view_name": "HBoxView",
            "box_style": "",
            "children": [
              "IPY_MODEL_7818632c5af445bdbf9799b4221fd57e",
              "IPY_MODEL_826202f17e5c4019a9aadd2397670c16",
              "IPY_MODEL_cf8befcf8a1e4275a6ebfa4ab17e297e"
            ],
            "layout": "IPY_MODEL_7ae280ee43e84972884d5f352807563c"
          }
        },
        "7818632c5af445bdbf9799b4221fd57e": {
          "model_module": "@jupyter-widgets/controls",
          "model_name": "HTMLModel",
          "model_module_version": "1.5.0",
          "state": {
            "_dom_classes": [],
            "_model_module": "@jupyter-widgets/controls",
            "_model_module_version": "1.5.0",
            "_model_name": "HTMLModel",
            "_view_count": null,
            "_view_module": "@jupyter-widgets/controls",
            "_view_module_version": "1.5.0",
            "_view_name": "HTMLView",
            "description": "",
            "description_tooltip": null,
            "layout": "IPY_MODEL_8a4c42d272274715b1db4d000bbfe51f",
            "placeholder": "​",
            "style": "IPY_MODEL_a347a2b0889342c7a8e16eafe43b1209",
            "value": "Downloading (…)lve/main/config.json: 100%"
          }
        },
        "826202f17e5c4019a9aadd2397670c16": {
          "model_module": "@jupyter-widgets/controls",
          "model_name": "FloatProgressModel",
          "model_module_version": "1.5.0",
          "state": {
            "_dom_classes": [],
            "_model_module": "@jupyter-widgets/controls",
            "_model_module_version": "1.5.0",
            "_model_name": "FloatProgressModel",
            "_view_count": null,
            "_view_module": "@jupyter-widgets/controls",
            "_view_module_version": "1.5.0",
            "_view_name": "ProgressView",
            "bar_style": "success",
            "description": "",
            "description_tooltip": null,
            "layout": "IPY_MODEL_0def02cdc6fe4126bfc807fd635fe0a6",
            "max": 665,
            "min": 0,
            "orientation": "horizontal",
            "style": "IPY_MODEL_b3fcaef08e20417f93bd53030b3b36e0",
            "value": 665
          }
        },
        "cf8befcf8a1e4275a6ebfa4ab17e297e": {
          "model_module": "@jupyter-widgets/controls",
          "model_name": "HTMLModel",
          "model_module_version": "1.5.0",
          "state": {
            "_dom_classes": [],
            "_model_module": "@jupyter-widgets/controls",
            "_model_module_version": "1.5.0",
            "_model_name": "HTMLModel",
            "_view_count": null,
            "_view_module": "@jupyter-widgets/controls",
            "_view_module_version": "1.5.0",
            "_view_name": "HTMLView",
            "description": "",
            "description_tooltip": null,
            "layout": "IPY_MODEL_2626cf3dab8a40789437947515d0fa0d",
            "placeholder": "​",
            "style": "IPY_MODEL_878d316a4924479e932a4da32aa35dd5",
            "value": " 665/665 [00:00&lt;00:00, 36.1kB/s]"
          }
        },
        "7ae280ee43e84972884d5f352807563c": {
          "model_module": "@jupyter-widgets/base",
          "model_name": "LayoutModel",
          "model_module_version": "1.2.0",
          "state": {
            "_model_module": "@jupyter-widgets/base",
            "_model_module_version": "1.2.0",
            "_model_name": "LayoutModel",
            "_view_count": null,
            "_view_module": "@jupyter-widgets/base",
            "_view_module_version": "1.2.0",
            "_view_name": "LayoutView",
            "align_content": null,
            "align_items": null,
            "align_self": null,
            "border": null,
            "bottom": null,
            "display": null,
            "flex": null,
            "flex_flow": null,
            "grid_area": null,
            "grid_auto_columns": null,
            "grid_auto_flow": null,
            "grid_auto_rows": null,
            "grid_column": null,
            "grid_gap": null,
            "grid_row": null,
            "grid_template_areas": null,
            "grid_template_columns": null,
            "grid_template_rows": null,
            "height": null,
            "justify_content": null,
            "justify_items": null,
            "left": null,
            "margin": null,
            "max_height": null,
            "max_width": null,
            "min_height": null,
            "min_width": null,
            "object_fit": null,
            "object_position": null,
            "order": null,
            "overflow": null,
            "overflow_x": null,
            "overflow_y": null,
            "padding": null,
            "right": null,
            "top": null,
            "visibility": null,
            "width": null
          }
        },
        "8a4c42d272274715b1db4d000bbfe51f": {
          "model_module": "@jupyter-widgets/base",
          "model_name": "LayoutModel",
          "model_module_version": "1.2.0",
          "state": {
            "_model_module": "@jupyter-widgets/base",
            "_model_module_version": "1.2.0",
            "_model_name": "LayoutModel",
            "_view_count": null,
            "_view_module": "@jupyter-widgets/base",
            "_view_module_version": "1.2.0",
            "_view_name": "LayoutView",
            "align_content": null,
            "align_items": null,
            "align_self": null,
            "border": null,
            "bottom": null,
            "display": null,
            "flex": null,
            "flex_flow": null,
            "grid_area": null,
            "grid_auto_columns": null,
            "grid_auto_flow": null,
            "grid_auto_rows": null,
            "grid_column": null,
            "grid_gap": null,
            "grid_row": null,
            "grid_template_areas": null,
            "grid_template_columns": null,
            "grid_template_rows": null,
            "height": null,
            "justify_content": null,
            "justify_items": null,
            "left": null,
            "margin": null,
            "max_height": null,
            "max_width": null,
            "min_height": null,
            "min_width": null,
            "object_fit": null,
            "object_position": null,
            "order": null,
            "overflow": null,
            "overflow_x": null,
            "overflow_y": null,
            "padding": null,
            "right": null,
            "top": null,
            "visibility": null,
            "width": null
          }
        },
        "a347a2b0889342c7a8e16eafe43b1209": {
          "model_module": "@jupyter-widgets/controls",
          "model_name": "DescriptionStyleModel",
          "model_module_version": "1.5.0",
          "state": {
            "_model_module": "@jupyter-widgets/controls",
            "_model_module_version": "1.5.0",
            "_model_name": "DescriptionStyleModel",
            "_view_count": null,
            "_view_module": "@jupyter-widgets/base",
            "_view_module_version": "1.2.0",
            "_view_name": "StyleView",
            "description_width": ""
          }
        },
        "0def02cdc6fe4126bfc807fd635fe0a6": {
          "model_module": "@jupyter-widgets/base",
          "model_name": "LayoutModel",
          "model_module_version": "1.2.0",
          "state": {
            "_model_module": "@jupyter-widgets/base",
            "_model_module_version": "1.2.0",
            "_model_name": "LayoutModel",
            "_view_count": null,
            "_view_module": "@jupyter-widgets/base",
            "_view_module_version": "1.2.0",
            "_view_name": "LayoutView",
            "align_content": null,
            "align_items": null,
            "align_self": null,
            "border": null,
            "bottom": null,
            "display": null,
            "flex": null,
            "flex_flow": null,
            "grid_area": null,
            "grid_auto_columns": null,
            "grid_auto_flow": null,
            "grid_auto_rows": null,
            "grid_column": null,
            "grid_gap": null,
            "grid_row": null,
            "grid_template_areas": null,
            "grid_template_columns": null,
            "grid_template_rows": null,
            "height": null,
            "justify_content": null,
            "justify_items": null,
            "left": null,
            "margin": null,
            "max_height": null,
            "max_width": null,
            "min_height": null,
            "min_width": null,
            "object_fit": null,
            "object_position": null,
            "order": null,
            "overflow": null,
            "overflow_x": null,
            "overflow_y": null,
            "padding": null,
            "right": null,
            "top": null,
            "visibility": null,
            "width": null
          }
        },
        "b3fcaef08e20417f93bd53030b3b36e0": {
          "model_module": "@jupyter-widgets/controls",
          "model_name": "ProgressStyleModel",
          "model_module_version": "1.5.0",
          "state": {
            "_model_module": "@jupyter-widgets/controls",
            "_model_module_version": "1.5.0",
            "_model_name": "ProgressStyleModel",
            "_view_count": null,
            "_view_module": "@jupyter-widgets/base",
            "_view_module_version": "1.2.0",
            "_view_name": "StyleView",
            "bar_color": null,
            "description_width": ""
          }
        },
        "2626cf3dab8a40789437947515d0fa0d": {
          "model_module": "@jupyter-widgets/base",
          "model_name": "LayoutModel",
          "model_module_version": "1.2.0",
          "state": {
            "_model_module": "@jupyter-widgets/base",
            "_model_module_version": "1.2.0",
            "_model_name": "LayoutModel",
            "_view_count": null,
            "_view_module": "@jupyter-widgets/base",
            "_view_module_version": "1.2.0",
            "_view_name": "LayoutView",
            "align_content": null,
            "align_items": null,
            "align_self": null,
            "border": null,
            "bottom": null,
            "display": null,
            "flex": null,
            "flex_flow": null,
            "grid_area": null,
            "grid_auto_columns": null,
            "grid_auto_flow": null,
            "grid_auto_rows": null,
            "grid_column": null,
            "grid_gap": null,
            "grid_row": null,
            "grid_template_areas": null,
            "grid_template_columns": null,
            "grid_template_rows": null,
            "height": null,
            "justify_content": null,
            "justify_items": null,
            "left": null,
            "margin": null,
            "max_height": null,
            "max_width": null,
            "min_height": null,
            "min_width": null,
            "object_fit": null,
            "object_position": null,
            "order": null,
            "overflow": null,
            "overflow_x": null,
            "overflow_y": null,
            "padding": null,
            "right": null,
            "top": null,
            "visibility": null,
            "width": null
          }
        },
        "878d316a4924479e932a4da32aa35dd5": {
          "model_module": "@jupyter-widgets/controls",
          "model_name": "DescriptionStyleModel",
          "model_module_version": "1.5.0",
          "state": {
            "_model_module": "@jupyter-widgets/controls",
            "_model_module_version": "1.5.0",
            "_model_name": "DescriptionStyleModel",
            "_view_count": null,
            "_view_module": "@jupyter-widgets/base",
            "_view_module_version": "1.2.0",
            "_view_name": "StyleView",
            "description_width": ""
          }
        },
        "e45dc1d947a74f12ad58449b1fcad5a8": {
          "model_module": "@jupyter-widgets/controls",
          "model_name": "HBoxModel",
          "model_module_version": "1.5.0",
          "state": {
            "_dom_classes": [],
            "_model_module": "@jupyter-widgets/controls",
            "_model_module_version": "1.5.0",
            "_model_name": "HBoxModel",
            "_view_count": null,
            "_view_module": "@jupyter-widgets/controls",
            "_view_module_version": "1.5.0",
            "_view_name": "HBoxView",
            "box_style": "",
            "children": [
              "IPY_MODEL_a83bdc8558e848e5bf329491bbfef5f4",
              "IPY_MODEL_68a8dee9012e47e3892d3c5b90d440c2",
              "IPY_MODEL_6a7892857d694814b34662c08afaa1d9"
            ],
            "layout": "IPY_MODEL_6286cb2667ce4dc78c4773c5b6a174d3"
          }
        },
        "a83bdc8558e848e5bf329491bbfef5f4": {
          "model_module": "@jupyter-widgets/controls",
          "model_name": "HTMLModel",
          "model_module_version": "1.5.0",
          "state": {
            "_dom_classes": [],
            "_model_module": "@jupyter-widgets/controls",
            "_model_module_version": "1.5.0",
            "_model_name": "HTMLModel",
            "_view_count": null,
            "_view_module": "@jupyter-widgets/controls",
            "_view_module_version": "1.5.0",
            "_view_name": "HTMLView",
            "description": "",
            "description_tooltip": null,
            "layout": "IPY_MODEL_5828db0558f84e21aeb88b0f552a5c8d",
            "placeholder": "​",
            "style": "IPY_MODEL_c2bb5117c395422c9b1b8d208480ad69",
            "value": "Downloading tf_model.h5: 100%"
          }
        },
        "68a8dee9012e47e3892d3c5b90d440c2": {
          "model_module": "@jupyter-widgets/controls",
          "model_name": "FloatProgressModel",
          "model_module_version": "1.5.0",
          "state": {
            "_dom_classes": [],
            "_model_module": "@jupyter-widgets/controls",
            "_model_module_version": "1.5.0",
            "_model_name": "FloatProgressModel",
            "_view_count": null,
            "_view_module": "@jupyter-widgets/controls",
            "_view_module_version": "1.5.0",
            "_view_name": "ProgressView",
            "bar_style": "success",
            "description": "",
            "description_tooltip": null,
            "layout": "IPY_MODEL_bcff794e49f5411c91923fb072dad035",
            "max": 497933648,
            "min": 0,
            "orientation": "horizontal",
            "style": "IPY_MODEL_8d3775fa4d474ff69a8ce697eaae6de9",
            "value": 497933648
          }
        },
        "6a7892857d694814b34662c08afaa1d9": {
          "model_module": "@jupyter-widgets/controls",
          "model_name": "HTMLModel",
          "model_module_version": "1.5.0",
          "state": {
            "_dom_classes": [],
            "_model_module": "@jupyter-widgets/controls",
            "_model_module_version": "1.5.0",
            "_model_name": "HTMLModel",
            "_view_count": null,
            "_view_module": "@jupyter-widgets/controls",
            "_view_module_version": "1.5.0",
            "_view_name": "HTMLView",
            "description": "",
            "description_tooltip": null,
            "layout": "IPY_MODEL_e060052136c548a8831732ebe85656ab",
            "placeholder": "​",
            "style": "IPY_MODEL_1849d666f4ad4849ab1acd708d95ea12",
            "value": " 498M/498M [00:04&lt;00:00, 129MB/s]"
          }
        },
        "6286cb2667ce4dc78c4773c5b6a174d3": {
          "model_module": "@jupyter-widgets/base",
          "model_name": "LayoutModel",
          "model_module_version": "1.2.0",
          "state": {
            "_model_module": "@jupyter-widgets/base",
            "_model_module_version": "1.2.0",
            "_model_name": "LayoutModel",
            "_view_count": null,
            "_view_module": "@jupyter-widgets/base",
            "_view_module_version": "1.2.0",
            "_view_name": "LayoutView",
            "align_content": null,
            "align_items": null,
            "align_self": null,
            "border": null,
            "bottom": null,
            "display": null,
            "flex": null,
            "flex_flow": null,
            "grid_area": null,
            "grid_auto_columns": null,
            "grid_auto_flow": null,
            "grid_auto_rows": null,
            "grid_column": null,
            "grid_gap": null,
            "grid_row": null,
            "grid_template_areas": null,
            "grid_template_columns": null,
            "grid_template_rows": null,
            "height": null,
            "justify_content": null,
            "justify_items": null,
            "left": null,
            "margin": null,
            "max_height": null,
            "max_width": null,
            "min_height": null,
            "min_width": null,
            "object_fit": null,
            "object_position": null,
            "order": null,
            "overflow": null,
            "overflow_x": null,
            "overflow_y": null,
            "padding": null,
            "right": null,
            "top": null,
            "visibility": null,
            "width": null
          }
        },
        "5828db0558f84e21aeb88b0f552a5c8d": {
          "model_module": "@jupyter-widgets/base",
          "model_name": "LayoutModel",
          "model_module_version": "1.2.0",
          "state": {
            "_model_module": "@jupyter-widgets/base",
            "_model_module_version": "1.2.0",
            "_model_name": "LayoutModel",
            "_view_count": null,
            "_view_module": "@jupyter-widgets/base",
            "_view_module_version": "1.2.0",
            "_view_name": "LayoutView",
            "align_content": null,
            "align_items": null,
            "align_self": null,
            "border": null,
            "bottom": null,
            "display": null,
            "flex": null,
            "flex_flow": null,
            "grid_area": null,
            "grid_auto_columns": null,
            "grid_auto_flow": null,
            "grid_auto_rows": null,
            "grid_column": null,
            "grid_gap": null,
            "grid_row": null,
            "grid_template_areas": null,
            "grid_template_columns": null,
            "grid_template_rows": null,
            "height": null,
            "justify_content": null,
            "justify_items": null,
            "left": null,
            "margin": null,
            "max_height": null,
            "max_width": null,
            "min_height": null,
            "min_width": null,
            "object_fit": null,
            "object_position": null,
            "order": null,
            "overflow": null,
            "overflow_x": null,
            "overflow_y": null,
            "padding": null,
            "right": null,
            "top": null,
            "visibility": null,
            "width": null
          }
        },
        "c2bb5117c395422c9b1b8d208480ad69": {
          "model_module": "@jupyter-widgets/controls",
          "model_name": "DescriptionStyleModel",
          "model_module_version": "1.5.0",
          "state": {
            "_model_module": "@jupyter-widgets/controls",
            "_model_module_version": "1.5.0",
            "_model_name": "DescriptionStyleModel",
            "_view_count": null,
            "_view_module": "@jupyter-widgets/base",
            "_view_module_version": "1.2.0",
            "_view_name": "StyleView",
            "description_width": ""
          }
        },
        "bcff794e49f5411c91923fb072dad035": {
          "model_module": "@jupyter-widgets/base",
          "model_name": "LayoutModel",
          "model_module_version": "1.2.0",
          "state": {
            "_model_module": "@jupyter-widgets/base",
            "_model_module_version": "1.2.0",
            "_model_name": "LayoutModel",
            "_view_count": null,
            "_view_module": "@jupyter-widgets/base",
            "_view_module_version": "1.2.0",
            "_view_name": "LayoutView",
            "align_content": null,
            "align_items": null,
            "align_self": null,
            "border": null,
            "bottom": null,
            "display": null,
            "flex": null,
            "flex_flow": null,
            "grid_area": null,
            "grid_auto_columns": null,
            "grid_auto_flow": null,
            "grid_auto_rows": null,
            "grid_column": null,
            "grid_gap": null,
            "grid_row": null,
            "grid_template_areas": null,
            "grid_template_columns": null,
            "grid_template_rows": null,
            "height": null,
            "justify_content": null,
            "justify_items": null,
            "left": null,
            "margin": null,
            "max_height": null,
            "max_width": null,
            "min_height": null,
            "min_width": null,
            "object_fit": null,
            "object_position": null,
            "order": null,
            "overflow": null,
            "overflow_x": null,
            "overflow_y": null,
            "padding": null,
            "right": null,
            "top": null,
            "visibility": null,
            "width": null
          }
        },
        "8d3775fa4d474ff69a8ce697eaae6de9": {
          "model_module": "@jupyter-widgets/controls",
          "model_name": "ProgressStyleModel",
          "model_module_version": "1.5.0",
          "state": {
            "_model_module": "@jupyter-widgets/controls",
            "_model_module_version": "1.5.0",
            "_model_name": "ProgressStyleModel",
            "_view_count": null,
            "_view_module": "@jupyter-widgets/base",
            "_view_module_version": "1.2.0",
            "_view_name": "StyleView",
            "bar_color": null,
            "description_width": ""
          }
        },
        "e060052136c548a8831732ebe85656ab": {
          "model_module": "@jupyter-widgets/base",
          "model_name": "LayoutModel",
          "model_module_version": "1.2.0",
          "state": {
            "_model_module": "@jupyter-widgets/base",
            "_model_module_version": "1.2.0",
            "_model_name": "LayoutModel",
            "_view_count": null,
            "_view_module": "@jupyter-widgets/base",
            "_view_module_version": "1.2.0",
            "_view_name": "LayoutView",
            "align_content": null,
            "align_items": null,
            "align_self": null,
            "border": null,
            "bottom": null,
            "display": null,
            "flex": null,
            "flex_flow": null,
            "grid_area": null,
            "grid_auto_columns": null,
            "grid_auto_flow": null,
            "grid_auto_rows": null,
            "grid_column": null,
            "grid_gap": null,
            "grid_row": null,
            "grid_template_areas": null,
            "grid_template_columns": null,
            "grid_template_rows": null,
            "height": null,
            "justify_content": null,
            "justify_items": null,
            "left": null,
            "margin": null,
            "max_height": null,
            "max_width": null,
            "min_height": null,
            "min_width": null,
            "object_fit": null,
            "object_position": null,
            "order": null,
            "overflow": null,
            "overflow_x": null,
            "overflow_y": null,
            "padding": null,
            "right": null,
            "top": null,
            "visibility": null,
            "width": null
          }
        },
        "1849d666f4ad4849ab1acd708d95ea12": {
          "model_module": "@jupyter-widgets/controls",
          "model_name": "DescriptionStyleModel",
          "model_module_version": "1.5.0",
          "state": {
            "_model_module": "@jupyter-widgets/controls",
            "_model_module_version": "1.5.0",
            "_model_name": "DescriptionStyleModel",
            "_view_count": null,
            "_view_module": "@jupyter-widgets/base",
            "_view_module_version": "1.2.0",
            "_view_name": "StyleView",
            "description_width": ""
          }
        }
      }
    }
  },
  "nbformat": 4,
  "nbformat_minor": 0
}